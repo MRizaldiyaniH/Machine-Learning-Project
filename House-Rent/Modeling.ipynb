{
 "cells": [
  {
   "cell_type": "code",
   "execution_count": 1,
   "id": "22ac267f",
   "metadata": {},
   "outputs": [],
   "source": [
    "#import modul yang diperlukan\n",
    "import pandas as pd\n",
    "import numpy as np\n",
    "import matplotlib.pyplot as plt"
   ]
  },
  {
   "cell_type": "code",
   "execution_count": 3,
   "id": "628637b6",
   "metadata": {},
   "outputs": [],
   "source": [
    "#import data untuk training\n",
    "x_train = pd.read_csv('feature_train.csv')\n",
    "y_train = pd.read_csv('label_train.csv')"
   ]
  },
  {
   "cell_type": "markdown",
   "id": "01603876",
   "metadata": {},
   "source": [
    "## Scaling\n",
    "\n",
    "Saya melakukan proses scaling setelah data dipisahkan. Hal ini dilakukan untuk meminimalisir *data leakage* seperti yang dibahas dalam artikel https://machinelearningmastery.com/data-leakage-machine-learning/"
   ]
  },
  {
   "cell_type": "code",
   "execution_count": 4,
   "id": "3e1953c4",
   "metadata": {},
   "outputs": [],
   "source": [
    "from sklearn.preprocessing import StandardScaler"
   ]
  },
  {
   "cell_type": "code",
   "execution_count": 5,
   "id": "e2426de2",
   "metadata": {},
   "outputs": [
    {
     "data": {
      "text/plain": [
       "array([[ 1.13646011,  1.3157337 ,  1.03394431, ...,  1.46316269,\n",
       "        -0.01624353, -1.46227393],\n",
       "       [-0.079549  , -1.40327543, -0.96742555, ..., -0.683451  ,\n",
       "        -0.01624353,  0.6838664 ],\n",
       "       [-0.079549  , -0.24975641,  1.03394431, ..., -0.683451  ,\n",
       "        -0.01624353,  0.6838664 ],\n",
       "       ...,\n",
       "       [-0.079549  ,  0.40939732,  1.03394431, ...,  1.46316269,\n",
       "        -0.01624353, -1.46227393],\n",
       "       [ 1.13646011, -0.08496798,  1.03394431, ...,  1.46316269,\n",
       "        -0.01624353, -1.46227393],\n",
       "       [-1.29555811, -0.90891013, -0.96742555, ..., -0.683451  ,\n",
       "        -0.01624353,  0.6838664 ]])"
      ]
     },
     "execution_count": 5,
     "metadata": {},
     "output_type": "execute_result"
    }
   ],
   "source": [
    "Scaler = StandardScaler()\n",
    "Scaler = Scaler.fit(x_train)\n",
    "x_train = Scaler.transform(x_train)\n",
    "x_train"
   ]
  },
  {
   "cell_type": "markdown",
   "id": "3cda07bc",
   "metadata": {},
   "source": [
    "## Training"
   ]
  },
  {
   "cell_type": "code",
   "execution_count": 15,
   "id": "0ec907af",
   "metadata": {},
   "outputs": [],
   "source": [
    "#import model yang digunakan yaitu random forest\n",
    "from sklearn.ensemble import RandomForestRegressor"
   ]
  },
  {
   "cell_type": "code",
   "execution_count": 16,
   "id": "35a14eab",
   "metadata": {},
   "outputs": [],
   "source": [
    "reg = RandomForestRegressor(random_state=0)"
   ]
  },
  {
   "cell_type": "code",
   "execution_count": 17,
   "id": "ae0e988e",
   "metadata": {},
   "outputs": [
    {
     "name": "stderr",
     "output_type": "stream",
     "text": [
      "C:\\Users\\Rizaldi\\AppData\\Local\\Temp\\ipykernel_10228\\4168448519.py:1: DataConversionWarning: A column-vector y was passed when a 1d array was expected. Please change the shape of y to (n_samples,), for example using ravel().\n",
      "  reg = reg.fit(x_train,y_train)\n"
     ]
    }
   ],
   "source": [
    "reg = reg.fit(x_train,y_train)"
   ]
  },
  {
   "cell_type": "code",
   "execution_count": 18,
   "id": "958df3b2",
   "metadata": {},
   "outputs": [
    {
     "data": {
      "text/plain": [
       "0.9370672718028137"
      ]
     },
     "execution_count": 18,
     "metadata": {},
     "output_type": "execute_result"
    }
   ],
   "source": [
    "reg.score(x_train,y_train)"
   ]
  },
  {
   "cell_type": "code",
   "execution_count": 19,
   "id": "2113f0e5",
   "metadata": {},
   "outputs": [],
   "source": [
    "#import data validation\n",
    "x_test = pd.read_csv('feature_test.csv')\n",
    "y_test = pd.read_csv('label_test.csv')"
   ]
  },
  {
   "cell_type": "code",
   "execution_count": 20,
   "id": "0a82a252",
   "metadata": {},
   "outputs": [],
   "source": [
    "#Scaling feature test\n",
    "x_test_scaled = Scaler.transform(x_test)"
   ]
  },
  {
   "cell_type": "code",
   "execution_count": 21,
   "id": "15fbe1e3",
   "metadata": {
    "scrolled": false
   },
   "outputs": [],
   "source": [
    "y_pred = reg.predict(x_test_scaled)"
   ]
  },
  {
   "cell_type": "code",
   "execution_count": 22,
   "id": "9a287f92",
   "metadata": {},
   "outputs": [
    {
     "data": {
      "text/plain": [
       "0.5404941542530026"
      ]
     },
     "execution_count": 22,
     "metadata": {},
     "output_type": "execute_result"
    }
   ],
   "source": [
    "reg.score(x_test_scaled,y_test)"
   ]
  },
  {
   "cell_type": "code",
   "execution_count": 23,
   "id": "9de3e3c2",
   "metadata": {},
   "outputs": [
    {
     "name": "stderr",
     "output_type": "stream",
     "text": [
      "C:\\Users\\Rizaldi\\anaconda3\\lib\\site-packages\\seaborn\\distributions.py:2619: FutureWarning: `distplot` is a deprecated function and will be removed in a future version. Please adapt your code to use either `displot` (a figure-level function with similar flexibility) or `histplot` (an axes-level function for histograms).\n",
      "  warnings.warn(msg, FutureWarning)\n",
      "C:\\Users\\Rizaldi\\anaconda3\\lib\\site-packages\\seaborn\\distributions.py:2619: FutureWarning: `distplot` is a deprecated function and will be removed in a future version. Please adapt your code to use either `displot` (a figure-level function with similar flexibility) or `histplot` (an axes-level function for histograms).\n",
      "  warnings.warn(msg, FutureWarning)\n"
     ]
    },
    {
     "data": {
      "text/plain": [
       "<AxesSubplot:ylabel='Density'>"
      ]
     },
     "execution_count": 23,
     "metadata": {},
     "output_type": "execute_result"
    },
    {
     "data": {
      "image/png": "[encoded data removed]",
      "text/plain": [
       "<Figure size 1440x720 with 1 Axes>"
      ]
     },
     "metadata": {
      "needs_background": "light"
     },
     "output_type": "display_data"
    }
   ],
   "source": [
    "import seaborn as sns\n",
    "plt.figure(figsize=(20,10))\n",
    "sns.distplot(y_pred)\n",
    "sns.distplot(y_val)"
   ]
  },
  {
   "cell_type": "markdown",
   "id": "1c054237",
   "metadata": {},
   "source": [
    "Terlihat bahwa untuk rentang harga tertentu model telah melakukan prediksi dengan baik sedangkan pada rentang harga yang lain performa model masih kurang baik. Nila $R^{2}$ yang dihasilkan pun masih tergolong kurang baik"
   ]
  },
  {
   "cell_type": "markdown",
   "id": "8ff2ffd4",
   "metadata": {},
   "source": [
    "## Hyperparameter Tunning\n",
    "\n",
    "Pada bagian ini dilakukan proses hyperparameter tunning untuk mencoba meningkatkan performa model. Hyperparameter dilakukan dengan dua langkah yaitu melakukan hyperparameter tunning dengan Random Search terlebih dahulu kemudian dilanjutkan dengan hyperparameter menggunakan Grid Search. (https://towardsdatascience.com/hyperparameter-tuning-the-random-forest-in-python-using-scikit-learn-28d2aa77dd74)"
   ]
  },
  {
   "cell_type": "markdown",
   "id": "d43440d5",
   "metadata": {},
   "source": [
    "#### Random Search"
   ]
  },
  {
   "cell_type": "code",
   "execution_count": 25,
   "id": "08896b62",
   "metadata": {},
   "outputs": [
    {
     "name": "stdout",
     "output_type": "stream",
     "text": [
      "Parameters yang sedang digunakan:\n",
      "\n",
      "{'bootstrap': True,\n",
      " 'ccp_alpha': 0.0,\n",
      " 'criterion': 'squared_error',\n",
      " 'max_depth': None,\n",
      " 'max_features': 1.0,\n",
      " 'max_leaf_nodes': None,\n",
      " 'max_samples': None,\n",
      " 'min_impurity_decrease': 0.0,\n",
      " 'min_samples_leaf': 1,\n",
      " 'min_samples_split': 2,\n",
      " 'min_weight_fraction_leaf': 0.0,\n",
      " 'n_estimators': 100,\n",
      " 'n_jobs': None,\n",
      " 'oob_score': False,\n",
      " 'random_state': 0,\n",
      " 'verbose': 0,\n",
      " 'warm_start': False}\n"
     ]
    }
   ],
   "source": [
    "from pprint import pprint\n",
    "# Parameter yang digunakan oleh random forest yang sedang digunakan\n",
    "print('Parameters yang sedang digunakan:\\n')\n",
    "pprint(reg.get_params())"
   ]
  },
  {
   "cell_type": "code",
   "execution_count": 26,
   "id": "432de853",
   "metadata": {},
   "outputs": [
    {
     "name": "stdout",
     "output_type": "stream",
     "text": [
      "{'bootstrap': [True, False],\n",
      " 'max_depth': [10, 20, 30, 40, 50, 60, 70, 80, 90, 100, 110, None],\n",
      " 'max_features': ['auto', 'sqrt'],\n",
      " 'min_samples_leaf': [1, 2, 4],\n",
      " 'min_samples_split': [2, 5, 10],\n",
      " 'n_estimators': [200, 400, 600, 800, 1000, 1200, 1400, 1600, 1800, 2000]}\n"
     ]
    }
   ],
   "source": [
    "from sklearn.model_selection import RandomizedSearchCV\n",
    "# Jumlah trees \n",
    "n_estimators = [int(x) for x in np.linspace(start = 200, stop = 2000, num = 10)]\n",
    "# Jumlah features\n",
    "max_features = ['auto', 'sqrt']\n",
    "# Maximum depth\n",
    "max_depth = [int(x) for x in np.linspace(10, 110, num = 11)]\n",
    "max_depth.append(None)\n",
    "# Minimum sample split\n",
    "min_samples_split = [2, 5, 10]\n",
    "# Jumlah minimum sample pada tiap leaf node\n",
    "min_samples_leaf = [1, 2, 4]\n",
    "# Bootstrap\n",
    "bootstrap = [True, False]\n",
    "# Membuat random grid\n",
    "random_grid = {'n_estimators': n_estimators,\n",
    "               'max_features': max_features,\n",
    "               'max_depth': max_depth,\n",
    "               'min_samples_split': min_samples_split,\n",
    "               'min_samples_leaf': min_samples_leaf,\n",
    "               'bootstrap': bootstrap}\n",
    "pprint(random_grid)"
   ]
  },
  {
   "cell_type": "code",
   "execution_count": 27,
   "id": "ac5b17de",
   "metadata": {},
   "outputs": [
    {
     "name": "stdout",
     "output_type": "stream",
     "text": [
      "Fitting 3 folds for each of 100 candidates, totalling 300 fits\n"
     ]
    },
    {
     "name": "stderr",
     "output_type": "stream",
     "text": [
      "C:\\Users\\Rizaldi\\anaconda3\\lib\\site-packages\\sklearn\\model_selection\\_search.py:910: DataConversionWarning: A column-vector y was passed when a 1d array was expected. Please change the shape of y to (n_samples,), for example using ravel().\n",
      "  self.best_estimator_.fit(X, y, **fit_params)\n"
     ]
    },
    {
     "data": {
      "text/html": [
       "<style>#sk-container-id-1 {color: black;background-color: white;}#sk-container-id-1 pre{padding: 0;}#sk-container-id-1 div.sk-toggleable {background-color: white;}#sk-container-id-1 label.sk-toggleable__label {cursor: pointer;display: block;width: 100%;margin-bottom: 0;padding: 0.3em;box-sizing: border-box;text-align: center;}#sk-container-id-1 label.sk-toggleable__label-arrow:before {content: \"▸\";float: left;margin-right: 0.25em;color: #696969;}#sk-container-id-1 label.sk-toggleable__label-arrow:hover:before {color: black;}#sk-container-id-1 div.sk-estimator:hover label.sk-toggleable__label-arrow:before {color: black;}#sk-container-id-1 div.sk-toggleable__content {max-height: 0;max-width: 0;overflow: hidden;text-align: left;background-color: #f0f8ff;}#sk-container-id-1 div.sk-toggleable__content pre {margin: 0.2em;color: black;border-radius: 0.25em;background-color: #f0f8ff;}#sk-container-id-1 input.sk-toggleable__control:checked~div.sk-toggleable__content {max-height: 200px;max-width: 100%;overflow: auto;}#sk-container-id-1 input.sk-toggleable__control:checked~label.sk-toggleable__label-arrow:before {content: \"▾\";}#sk-container-id-1 div.sk-estimator input.sk-toggleable__control:checked~label.sk-toggleable__label {background-color: #d4ebff;}#sk-container-id-1 div.sk-label input.sk-toggleable__control:checked~label.sk-toggleable__label {background-color: #d4ebff;}#sk-container-id-1 input.sk-hidden--visually {border: 0;clip: rect(1px 1px 1px 1px);clip: rect(1px, 1px, 1px, 1px);height: 1px;margin: -1px;overflow: hidden;padding: 0;position: absolute;width: 1px;}#sk-container-id-1 div.sk-estimator {font-family: monospace;background-color: #f0f8ff;border: 1px dotted black;border-radius: 0.25em;box-sizing: border-box;margin-bottom: 0.5em;}#sk-container-id-1 div.sk-estimator:hover {background-color: #d4ebff;}#sk-container-id-1 div.sk-parallel-item::after {content: \"\";width: 100%;border-bottom: 1px solid gray;flex-grow: 1;}#sk-container-id-1 div.sk-label:hover label.sk-toggleable__label {background-color: #d4ebff;}#sk-container-id-1 div.sk-serial::before {content: \"\";position: absolute;border-left: 1px solid gray;box-sizing: border-box;top: 0;bottom: 0;left: 50%;z-index: 0;}#sk-container-id-1 div.sk-serial {display: flex;flex-direction: column;align-items: center;background-color: white;padding-right: 0.2em;padding-left: 0.2em;position: relative;}#sk-container-id-1 div.sk-item {position: relative;z-index: 1;}#sk-container-id-1 div.sk-parallel {display: flex;align-items: stretch;justify-content: center;background-color: white;position: relative;}#sk-container-id-1 div.sk-item::before, #sk-container-id-1 div.sk-parallel-item::before {content: \"\";position: absolute;border-left: 1px solid gray;box-sizing: border-box;top: 0;bottom: 0;left: 50%;z-index: -1;}#sk-container-id-1 div.sk-parallel-item {display: flex;flex-direction: column;z-index: 1;position: relative;background-color: white;}#sk-container-id-1 div.sk-parallel-item:first-child::after {align-self: flex-end;width: 50%;}#sk-container-id-1 div.sk-parallel-item:last-child::after {align-self: flex-start;width: 50%;}#sk-container-id-1 div.sk-parallel-item:only-child::after {width: 0;}#sk-container-id-1 div.sk-dashed-wrapped {border: 1px dashed gray;margin: 0 0.4em 0.5em 0.4em;box-sizing: border-box;padding-bottom: 0.4em;background-color: white;}#sk-container-id-1 div.sk-label label {font-family: monospace;font-weight: bold;display: inline-block;line-height: 1.2em;}#sk-container-id-1 div.sk-label-container {text-align: center;}#sk-container-id-1 div.sk-container {/* jupyter's `normalize.less` sets `[hidden] { display: none; }` but bootstrap.min.css set `[hidden] { display: none !important; }` so we also need the `!important` here to be able to override the default hidden behavior on the sphinx rendered scikit-learn.org. See: https://github.com/scikit-learn/scikit-learn/issues/21755 */display: inline-block !important;position: relative;}#sk-container-id-1 div.sk-text-repr-fallback {display: none;}</style><div id=\"sk-container-id-1\" class=\"sk-top-container\"><div class=\"sk-text-repr-fallback\"><pre>RandomizedSearchCV(cv=3, estimator=RandomForestRegressor(), n_iter=100,\n",
       "                   n_jobs=-1,\n",
       "                   param_distributions={&#x27;bootstrap&#x27;: [True, False],\n",
       "                                        &#x27;max_depth&#x27;: [10, 20, 30, 40, 50, 60,\n",
       "                                                      70, 80, 90, 100, 110,\n",
       "                                                      None],\n",
       "                                        &#x27;max_features&#x27;: [&#x27;auto&#x27;, &#x27;sqrt&#x27;],\n",
       "                                        &#x27;min_samples_leaf&#x27;: [1, 2, 4],\n",
       "                                        &#x27;min_samples_split&#x27;: [2, 5, 10],\n",
       "                                        &#x27;n_estimators&#x27;: [200, 400, 600, 800,\n",
       "                                                         1000, 1200, 1400, 1600,\n",
       "                                                         1800, 2000]},\n",
       "                   random_state=42, verbose=2)</pre><b>In a Jupyter environment, please rerun this cell to show the HTML representation or trust the notebook. <br />On GitHub, the HTML representation is unable to render, please try loading this page with nbviewer.org.</b></div><div class=\"sk-container\" hidden><div class=\"sk-item sk-dashed-wrapped\"><div class=\"sk-label-container\"><div class=\"sk-label sk-toggleable\"><input class=\"sk-toggleable__control sk-hidden--visually\" id=\"sk-estimator-id-1\" type=\"checkbox\" ><label for=\"sk-estimator-id-1\" class=\"sk-toggleable__label sk-toggleable__label-arrow\">RandomizedSearchCV</label><div class=\"sk-toggleable__content\"><pre>RandomizedSearchCV(cv=3, estimator=RandomForestRegressor(), n_iter=100,\n",
       "                   n_jobs=-1,\n",
       "                   param_distributions={&#x27;bootstrap&#x27;: [True, False],\n",
       "                                        &#x27;max_depth&#x27;: [10, 20, 30, 40, 50, 60,\n",
       "                                                      70, 80, 90, 100, 110,\n",
       "                                                      None],\n",
       "                                        &#x27;max_features&#x27;: [&#x27;auto&#x27;, &#x27;sqrt&#x27;],\n",
       "                                        &#x27;min_samples_leaf&#x27;: [1, 2, 4],\n",
       "                                        &#x27;min_samples_split&#x27;: [2, 5, 10],\n",
       "                                        &#x27;n_estimators&#x27;: [200, 400, 600, 800,\n",
       "                                                         1000, 1200, 1400, 1600,\n",
       "                                                         1800, 2000]},\n",
       "                   random_state=42, verbose=2)</pre></div></div></div><div class=\"sk-parallel\"><div class=\"sk-parallel-item\"><div class=\"sk-item\"><div class=\"sk-label-container\"><div class=\"sk-label sk-toggleable\"><input class=\"sk-toggleable__control sk-hidden--visually\" id=\"sk-estimator-id-2\" type=\"checkbox\" ><label for=\"sk-estimator-id-2\" class=\"sk-toggleable__label sk-toggleable__label-arrow\">estimator: RandomForestRegressor</label><div class=\"sk-toggleable__content\"><pre>RandomForestRegressor()</pre></div></div></div><div class=\"sk-serial\"><div class=\"sk-item\"><div class=\"sk-estimator sk-toggleable\"><input class=\"sk-toggleable__control sk-hidden--visually\" id=\"sk-estimator-id-3\" type=\"checkbox\" ><label for=\"sk-estimator-id-3\" class=\"sk-toggleable__label sk-toggleable__label-arrow\">RandomForestRegressor</label><div class=\"sk-toggleable__content\"><pre>RandomForestRegressor()</pre></div></div></div></div></div></div></div></div></div></div>"
      ],
      "text/plain": [
       "RandomizedSearchCV(cv=3, estimator=RandomForestRegressor(), n_iter=100,\n",
       "                   n_jobs=-1,\n",
       "                   param_distributions={'bootstrap': [True, False],\n",
       "                                        'max_depth': [10, 20, 30, 40, 50, 60,\n",
       "                                                      70, 80, 90, 100, 110,\n",
       "                                                      None],\n",
       "                                        'max_features': ['auto', 'sqrt'],\n",
       "                                        'min_samples_leaf': [1, 2, 4],\n",
       "                                        'min_samples_split': [2, 5, 10],\n",
       "                                        'n_estimators': [200, 400, 600, 800,\n",
       "                                                         1000, 1200, 1400, 1600,\n",
       "                                                         1800, 2000]},\n",
       "                   random_state=42, verbose=2)"
      ]
     },
     "execution_count": 27,
     "metadata": {},
     "output_type": "execute_result"
    }
   ],
   "source": [
    "rf = RandomForestRegressor()\n",
    "# Random search dari parameter, menggunakan 3 fold cross validation, dengan jumlah parameter yang disampelkan adalah 100 (100 kombinasi)\n",
    "rf_random = RandomizedSearchCV(estimator = rf, param_distributions = random_grid, n_iter = 100, cv = 3, verbose=2, random_state=42, n_jobs = -1)\n",
    "rf_random.fit(x_train, y_train)"
   ]
  },
  {
   "cell_type": "code",
   "execution_count": 28,
   "id": "ffec91d6",
   "metadata": {
    "scrolled": true
   },
   "outputs": [
    {
     "data": {
      "text/plain": [
       "{'n_estimators': 1600,\n",
       " 'min_samples_split': 5,\n",
       " 'min_samples_leaf': 2,\n",
       " 'max_features': 'sqrt',\n",
       " 'max_depth': 10,\n",
       " 'bootstrap': False}"
      ]
     },
     "execution_count": 28,
     "metadata": {},
     "output_type": "execute_result"
    }
   ],
   "source": [
    "# Model dengan hyperparameter terbaik hasil random search\n",
    "rf_random.best_params_"
   ]
  },
  {
   "cell_type": "code",
   "execution_count": 29,
   "id": "f062d3b5",
   "metadata": {},
   "outputs": [],
   "source": [
    "# fungsi untuk evaluasi model\n",
    "def evaluate(model, test_features, test_labels):\n",
    "    predictions = model.predict(test_features)\n",
    "    errors = abs(predictions - np.array(test_labels))\n",
    "    mape = 100 * np.mean(errors / np.array(test_labels))\n",
    "    accuracy = 100 - mape\n",
    "    print('Performa Model')\n",
    "    print('Average Error: {:0.4f}.'.format(np.mean(errors)))"
   ]
  },
  {
   "cell_type": "code",
   "execution_count": 30,
   "id": "a9d9d7f9",
   "metadata": {},
   "outputs": [
    {
     "name": "stderr",
     "output_type": "stream",
     "text": [
      "C:\\Users\\Rizaldi\\AppData\\Local\\Temp\\ipykernel_10228\\1362002935.py:2: DataConversionWarning: A column-vector y was passed when a 1d array was expected. Please change the shape of y to (n_samples,), for example using ravel().\n",
      "  base_model.fit(x_train, y_train)\n"
     ]
    },
    {
     "name": "stdout",
     "output_type": "stream",
     "text": [
      "Performa Model\n",
      "Average Error: 42991.6115.\n",
      "Performa Model\n",
      "Average Error: 40916.1574.\n"
     ]
    }
   ],
   "source": [
    "base_model = RandomForestRegressor(n_estimators = 10, random_state = 42)\n",
    "base_model.fit(x_train, y_train)\n",
    "base_accuracy = evaluate(base_model, x_test_scaled, y_test)\n",
    "\n",
    "best_random = rf_random.best_estimator_\n",
    "random_accuracy = evaluate(best_random, x_test_scaled, y_test)\n"
   ]
  },
  {
   "cell_type": "markdown",
   "id": "dc481177",
   "metadata": {},
   "source": [
    "Berdasarkan perbandingan rata-rata eror tersebut, terlihat setelah dilakukan hyperparameter tuning performa model semakin meningkat dengan ditandai nilai eror yang semakin mengecil"
   ]
  },
  {
   "cell_type": "code",
   "execution_count": 31,
   "id": "3a506b7b",
   "metadata": {},
   "outputs": [
    {
     "data": {
      "text/plain": [
       "0.5744540351550578"
      ]
     },
     "execution_count": 31,
     "metadata": {},
     "output_type": "execute_result"
    }
   ],
   "source": [
    "# Nilai R^2 hasil hyperparameter tuning\n",
    "best_random.score(x_test_scaled,y_test)"
   ]
  },
  {
   "cell_type": "markdown",
   "id": "3f784cff",
   "metadata": {},
   "source": [
    "#### Grid Search"
   ]
  },
  {
   "cell_type": "code",
   "execution_count": 32,
   "id": "4703d8e6",
   "metadata": {},
   "outputs": [],
   "source": [
    "from sklearn.model_selection import GridSearchCV\n",
    "# Membuat grid parameter berdasarkan hasil random search\n",
    "param_grid = {\n",
    "    'bootstrap': [False],\n",
    "    'max_depth': [10, 20, 30, 40],\n",
    "    'max_features': ['sqrt'],\n",
    "    'min_samples_leaf': [2, 3, 4],\n",
    "    'min_samples_split': [5, 8, 11],\n",
    "    'n_estimators': [1600, 1650, 1700, 1750]\n",
    "}\n",
    "\n",
    "rf2 = RandomForestRegressor()\n",
    "grid_search = GridSearchCV(estimator = rf2, param_grid = param_grid, \n",
    "                          cv = 3, n_jobs = -1, verbose = 2)"
   ]
  },
  {
   "cell_type": "code",
   "execution_count": 33,
   "id": "480cbef3",
   "metadata": {},
   "outputs": [
    {
     "name": "stdout",
     "output_type": "stream",
     "text": [
      "Fitting 3 folds for each of 144 candidates, totalling 432 fits\n"
     ]
    },
    {
     "name": "stderr",
     "output_type": "stream",
     "text": [
      "C:\\Users\\Rizaldi\\anaconda3\\lib\\site-packages\\sklearn\\model_selection\\_search.py:910: DataConversionWarning: A column-vector y was passed when a 1d array was expected. Please change the shape of y to (n_samples,), for example using ravel().\n",
      "  self.best_estimator_.fit(X, y, **fit_params)\n"
     ]
    },
    {
     "data": {
      "text/html": [
       "<style>#sk-container-id-2 {color: black;background-color: white;}#sk-container-id-2 pre{padding: 0;}#sk-container-id-2 div.sk-toggleable {background-color: white;}#sk-container-id-2 label.sk-toggleable__label {cursor: pointer;display: block;width: 100%;margin-bottom: 0;padding: 0.3em;box-sizing: border-box;text-align: center;}#sk-container-id-2 label.sk-toggleable__label-arrow:before {content: \"▸\";float: left;margin-right: 0.25em;color: #696969;}#sk-container-id-2 label.sk-toggleable__label-arrow:hover:before {color: black;}#sk-container-id-2 div.sk-estimator:hover label.sk-toggleable__label-arrow:before {color: black;}#sk-container-id-2 div.sk-toggleable__content {max-height: 0;max-width: 0;overflow: hidden;text-align: left;background-color: #f0f8ff;}#sk-container-id-2 div.sk-toggleable__content pre {margin: 0.2em;color: black;border-radius: 0.25em;background-color: #f0f8ff;}#sk-container-id-2 input.sk-toggleable__control:checked~div.sk-toggleable__content {max-height: 200px;max-width: 100%;overflow: auto;}#sk-container-id-2 input.sk-toggleable__control:checked~label.sk-toggleable__label-arrow:before {content: \"▾\";}#sk-container-id-2 div.sk-estimator input.sk-toggleable__control:checked~label.sk-toggleable__label {background-color: #d4ebff;}#sk-container-id-2 div.sk-label input.sk-toggleable__control:checked~label.sk-toggleable__label {background-color: #d4ebff;}#sk-container-id-2 input.sk-hidden--visually {border: 0;clip: rect(1px 1px 1px 1px);clip: rect(1px, 1px, 1px, 1px);height: 1px;margin: -1px;overflow: hidden;padding: 0;position: absolute;width: 1px;}#sk-container-id-2 div.sk-estimator {font-family: monospace;background-color: #f0f8ff;border: 1px dotted black;border-radius: 0.25em;box-sizing: border-box;margin-bottom: 0.5em;}#sk-container-id-2 div.sk-estimator:hover {background-color: #d4ebff;}#sk-container-id-2 div.sk-parallel-item::after {content: \"\";width: 100%;border-bottom: 1px solid gray;flex-grow: 1;}#sk-container-id-2 div.sk-label:hover label.sk-toggleable__label {background-color: #d4ebff;}#sk-container-id-2 div.sk-serial::before {content: \"\";position: absolute;border-left: 1px solid gray;box-sizing: border-box;top: 0;bottom: 0;left: 50%;z-index: 0;}#sk-container-id-2 div.sk-serial {display: flex;flex-direction: column;align-items: center;background-color: white;padding-right: 0.2em;padding-left: 0.2em;position: relative;}#sk-container-id-2 div.sk-item {position: relative;z-index: 1;}#sk-container-id-2 div.sk-parallel {display: flex;align-items: stretch;justify-content: center;background-color: white;position: relative;}#sk-container-id-2 div.sk-item::before, #sk-container-id-2 div.sk-parallel-item::before {content: \"\";position: absolute;border-left: 1px solid gray;box-sizing: border-box;top: 0;bottom: 0;left: 50%;z-index: -1;}#sk-container-id-2 div.sk-parallel-item {display: flex;flex-direction: column;z-index: 1;position: relative;background-color: white;}#sk-container-id-2 div.sk-parallel-item:first-child::after {align-self: flex-end;width: 50%;}#sk-container-id-2 div.sk-parallel-item:last-child::after {align-self: flex-start;width: 50%;}#sk-container-id-2 div.sk-parallel-item:only-child::after {width: 0;}#sk-container-id-2 div.sk-dashed-wrapped {border: 1px dashed gray;margin: 0 0.4em 0.5em 0.4em;box-sizing: border-box;padding-bottom: 0.4em;background-color: white;}#sk-container-id-2 div.sk-label label {font-family: monospace;font-weight: bold;display: inline-block;line-height: 1.2em;}#sk-container-id-2 div.sk-label-container {text-align: center;}#sk-container-id-2 div.sk-container {/* jupyter's `normalize.less` sets `[hidden] { display: none; }` but bootstrap.min.css set `[hidden] { display: none !important; }` so we also need the `!important` here to be able to override the default hidden behavior on the sphinx rendered scikit-learn.org. See: https://github.com/scikit-learn/scikit-learn/issues/21755 */display: inline-block !important;position: relative;}#sk-container-id-2 div.sk-text-repr-fallback {display: none;}</style><div id=\"sk-container-id-2\" class=\"sk-top-container\"><div class=\"sk-text-repr-fallback\"><pre>GridSearchCV(cv=3, estimator=RandomForestRegressor(), n_jobs=-1,\n",
       "             param_grid={&#x27;bootstrap&#x27;: [False], &#x27;max_depth&#x27;: [10, 20, 30, 40],\n",
       "                         &#x27;max_features&#x27;: [&#x27;sqrt&#x27;],\n",
       "                         &#x27;min_samples_leaf&#x27;: [2, 3, 4],\n",
       "                         &#x27;min_samples_split&#x27;: [5, 8, 11],\n",
       "                         &#x27;n_estimators&#x27;: [1600, 1650, 1700, 1750]},\n",
       "             verbose=2)</pre><b>In a Jupyter environment, please rerun this cell to show the HTML representation or trust the notebook. <br />On GitHub, the HTML representation is unable to render, please try loading this page with nbviewer.org.</b></div><div class=\"sk-container\" hidden><div class=\"sk-item sk-dashed-wrapped\"><div class=\"sk-label-container\"><div class=\"sk-label sk-toggleable\"><input class=\"sk-toggleable__control sk-hidden--visually\" id=\"sk-estimator-id-4\" type=\"checkbox\" ><label for=\"sk-estimator-id-4\" class=\"sk-toggleable__label sk-toggleable__label-arrow\">GridSearchCV</label><div class=\"sk-toggleable__content\"><pre>GridSearchCV(cv=3, estimator=RandomForestRegressor(), n_jobs=-1,\n",
       "             param_grid={&#x27;bootstrap&#x27;: [False], &#x27;max_depth&#x27;: [10, 20, 30, 40],\n",
       "                         &#x27;max_features&#x27;: [&#x27;sqrt&#x27;],\n",
       "                         &#x27;min_samples_leaf&#x27;: [2, 3, 4],\n",
       "                         &#x27;min_samples_split&#x27;: [5, 8, 11],\n",
       "                         &#x27;n_estimators&#x27;: [1600, 1650, 1700, 1750]},\n",
       "             verbose=2)</pre></div></div></div><div class=\"sk-parallel\"><div class=\"sk-parallel-item\"><div class=\"sk-item\"><div class=\"sk-label-container\"><div class=\"sk-label sk-toggleable\"><input class=\"sk-toggleable__control sk-hidden--visually\" id=\"sk-estimator-id-5\" type=\"checkbox\" ><label for=\"sk-estimator-id-5\" class=\"sk-toggleable__label sk-toggleable__label-arrow\">estimator: RandomForestRegressor</label><div class=\"sk-toggleable__content\"><pre>RandomForestRegressor()</pre></div></div></div><div class=\"sk-serial\"><div class=\"sk-item\"><div class=\"sk-estimator sk-toggleable\"><input class=\"sk-toggleable__control sk-hidden--visually\" id=\"sk-estimator-id-6\" type=\"checkbox\" ><label for=\"sk-estimator-id-6\" class=\"sk-toggleable__label sk-toggleable__label-arrow\">RandomForestRegressor</label><div class=\"sk-toggleable__content\"><pre>RandomForestRegressor()</pre></div></div></div></div></div></div></div></div></div></div>"
      ],
      "text/plain": [
       "GridSearchCV(cv=3, estimator=RandomForestRegressor(), n_jobs=-1,\n",
       "             param_grid={'bootstrap': [False], 'max_depth': [10, 20, 30, 40],\n",
       "                         'max_features': ['sqrt'],\n",
       "                         'min_samples_leaf': [2, 3, 4],\n",
       "                         'min_samples_split': [5, 8, 11],\n",
       "                         'n_estimators': [1600, 1650, 1700, 1750]},\n",
       "             verbose=2)"
      ]
     },
     "execution_count": 33,
     "metadata": {},
     "output_type": "execute_result"
    }
   ],
   "source": [
    "grid_search.fit(x_train, y_train)"
   ]
  },
  {
   "cell_type": "code",
   "execution_count": 34,
   "id": "697626fb",
   "metadata": {},
   "outputs": [
    {
     "data": {
      "text/plain": [
       "{'bootstrap': False,\n",
       " 'max_depth': 10,\n",
       " 'max_features': 'sqrt',\n",
       " 'min_samples_leaf': 2,\n",
       " 'min_samples_split': 5,\n",
       " 'n_estimators': 1600}"
      ]
     },
     "execution_count": 34,
     "metadata": {},
     "output_type": "execute_result"
    }
   ],
   "source": [
    "# hyperparameter terbaik hasil dari grid search\n",
    "grid_search.best_params_"
   ]
  },
  {
   "cell_type": "code",
   "execution_count": 35,
   "id": "bc9b66e0",
   "metadata": {},
   "outputs": [
    {
     "name": "stdout",
     "output_type": "stream",
     "text": [
      "Performa Model\n",
      "Average Error: 40917.7182.\n"
     ]
    }
   ],
   "source": [
    "best_grid = grid_search.best_estimator_\n",
    "grid_accuracy = evaluate(best_grid, x_test_scaled, y_test)"
   ]
  },
  {
   "cell_type": "code",
   "execution_count": 36,
   "id": "97c9daef",
   "metadata": {},
   "outputs": [
    {
     "data": {
      "text/plain": [
       "0.5738448417519716"
      ]
     },
     "execution_count": 36,
     "metadata": {},
     "output_type": "execute_result"
    }
   ],
   "source": [
    "best_grid.score(x_test_scaled,y_test)"
   ]
  },
  {
   "cell_type": "markdown",
   "id": "e40606bf",
   "metadata": {},
   "source": [
    "Performa model hasil dari grid search tidak berbeda jauh dengan hasil yang diperoleh oleh random search. Oleh karena itu model tersebut sudah menjadi model akhir dari prediksi ini"
   ]
  },
  {
   "cell_type": "code",
   "execution_count": 38,
   "id": "470be5d5",
   "metadata": {},
   "outputs": [],
   "source": [
    "y_pred_test = best_grid.predict(x_test_scaled)"
   ]
  },
  {
   "cell_type": "code",
   "execution_count": 39,
   "id": "bdf6dc20",
   "metadata": {
    "scrolled": false
   },
   "outputs": [
    {
     "name": "stderr",
     "output_type": "stream",
     "text": [
      "C:\\Users\\Rizaldi\\anaconda3\\lib\\site-packages\\seaborn\\distributions.py:2619: FutureWarning: `distplot` is a deprecated function and will be removed in a future version. Please adapt your code to use either `displot` (a figure-level function with similar flexibility) or `histplot` (an axes-level function for histograms).\n",
      "  warnings.warn(msg, FutureWarning)\n",
      "C:\\Users\\Rizaldi\\anaconda3\\lib\\site-packages\\seaborn\\distributions.py:2619: FutureWarning: `distplot` is a deprecated function and will be removed in a future version. Please adapt your code to use either `displot` (a figure-level function with similar flexibility) or `histplot` (an axes-level function for histograms).\n",
      "  warnings.warn(msg, FutureWarning)\n",
      "No artists with labels found to put in legend.  Note that artists whose label start with an underscore are ignored when legend() is called with no argument.\n"
     ]
    },
    {
     "data": {
      "text/plain": [
       "<matplotlib.legend.Legend at 0x153d63f9130>"
      ]
     },
     "execution_count": 39,
     "metadata": {},
     "output_type": "execute_result"
    },
    {
     "data": {
      "image/png": "[encoded data removed]",
      "text/plain": [
       "<Figure size 1440x720 with 1 Axes>"
      ]
     },
     "metadata": {
      "needs_background": "light"
     },
     "output_type": "display_data"
    }
   ],
   "source": [
    "plt.figure(figsize=(20,10))\n",
    "sns.distplot(y_pred_test)\n",
    "sns.distplot(y_test)\n",
    "plt.legend()"
   ]
  },
  {
   "cell_type": "code",
   "execution_count": 40,
   "id": "38ee5404",
   "metadata": {},
   "outputs": [],
   "source": [
    "true = np.array(y_test).reshape(-1)\n",
    "prediction = np.array(y_pred_test).reshape(-1)"
   ]
  },
  {
   "cell_type": "code",
   "execution_count": 41,
   "id": "4fb053f5",
   "metadata": {},
   "outputs": [
    {
     "data": {
      "text/plain": [
       "(948,)"
      ]
     },
     "execution_count": 41,
     "metadata": {},
     "output_type": "execute_result"
    }
   ],
   "source": [
    "true.shape"
   ]
  },
  {
   "cell_type": "code",
   "execution_count": 42,
   "id": "c39b1740",
   "metadata": {},
   "outputs": [
    {
     "data": {
      "text/html": [
       "<div>\n",
       "<style scoped>\n",
       "    .dataframe tbody tr th:only-of-type {\n",
       "        vertical-align: middle;\n",
       "    }\n",
       "\n",
       "    .dataframe tbody tr th {\n",
       "        vertical-align: top;\n",
       "    }\n",
       "\n",
       "    .dataframe thead th {\n",
       "        text-align: right;\n",
       "    }\n",
       "</style>\n",
       "<table border=\"1\" class=\"dataframe\">\n",
       "  <thead>\n",
       "    <tr style=\"text-align: right;\">\n",
       "      <th></th>\n",
       "      <th>True_val</th>\n",
       "      <th>Prediction_val</th>\n",
       "    </tr>\n",
       "  </thead>\n",
       "  <tbody>\n",
       "    <tr>\n",
       "      <th>0</th>\n",
       "      <td>17000</td>\n",
       "      <td>15371.754895</td>\n",
       "    </tr>\n",
       "    <tr>\n",
       "      <th>1</th>\n",
       "      <td>30000</td>\n",
       "      <td>140895.336757</td>\n",
       "    </tr>\n",
       "    <tr>\n",
       "      <th>2</th>\n",
       "      <td>16000</td>\n",
       "      <td>15430.675779</td>\n",
       "    </tr>\n",
       "    <tr>\n",
       "      <th>3</th>\n",
       "      <td>90000</td>\n",
       "      <td>130817.588299</td>\n",
       "    </tr>\n",
       "    <tr>\n",
       "      <th>4</th>\n",
       "      <td>18000</td>\n",
       "      <td>37182.281755</td>\n",
       "    </tr>\n",
       "    <tr>\n",
       "      <th>...</th>\n",
       "      <td>...</td>\n",
       "      <td>...</td>\n",
       "    </tr>\n",
       "    <tr>\n",
       "      <th>943</th>\n",
       "      <td>170000</td>\n",
       "      <td>105284.814783</td>\n",
       "    </tr>\n",
       "    <tr>\n",
       "      <th>944</th>\n",
       "      <td>20000</td>\n",
       "      <td>33807.366557</td>\n",
       "    </tr>\n",
       "    <tr>\n",
       "      <th>945</th>\n",
       "      <td>7500</td>\n",
       "      <td>12500.403856</td>\n",
       "    </tr>\n",
       "    <tr>\n",
       "      <th>946</th>\n",
       "      <td>9500</td>\n",
       "      <td>11613.085214</td>\n",
       "    </tr>\n",
       "    <tr>\n",
       "      <th>947</th>\n",
       "      <td>140000</td>\n",
       "      <td>77909.923007</td>\n",
       "    </tr>\n",
       "  </tbody>\n",
       "</table>\n",
       "<p>948 rows × 2 columns</p>\n",
       "</div>"
      ],
      "text/plain": [
       "     True_val  Prediction_val\n",
       "0       17000    15371.754895\n",
       "1       30000   140895.336757\n",
       "2       16000    15430.675779\n",
       "3       90000   130817.588299\n",
       "4       18000    37182.281755\n",
       "..        ...             ...\n",
       "943    170000   105284.814783\n",
       "944     20000    33807.366557\n",
       "945      7500    12500.403856\n",
       "946      9500    11613.085214\n",
       "947    140000    77909.923007\n",
       "\n",
       "[948 rows x 2 columns]"
      ]
     },
     "execution_count": 42,
     "metadata": {},
     "output_type": "execute_result"
    }
   ],
   "source": [
    "hasil = pd.DataFrame({'True_val':true,'Prediction_val':prediction})\n",
    "hasil"
   ]
  },
  {
   "cell_type": "code",
   "execution_count": 43,
   "id": "79f5f68f",
   "metadata": {},
   "outputs": [],
   "source": [
    "def cat(df):\n",
    "    val = 0\n",
    "    if df < 10000:\n",
    "        val = 'dibawah 10k'\n",
    "    elif (df >= 10000) and (df < 5e4):\n",
    "        val = '10k sampai <50k'\n",
    "    elif (df >= 50000) and (df <= 1e5):\n",
    "        val = '50k sampai 100k'    \n",
    "    else:\n",
    "        val = 'diatas 100k'\n",
    "    return val"
   ]
  },
  {
   "cell_type": "code",
   "execution_count": 44,
   "id": "e61bc4ff",
   "metadata": {},
   "outputs": [],
   "source": [
    "hasil['Category'] = hasil['True_val'].apply(cat)"
   ]
  },
  {
   "cell_type": "code",
   "execution_count": 45,
   "id": "0762049d",
   "metadata": {},
   "outputs": [],
   "source": [
    "hasil['diff'] = (abs(hasil['True_val']-hasil['Prediction_val'])/hasil['True_val'])*100"
   ]
  },
  {
   "cell_type": "code",
   "execution_count": 47,
   "id": "d2b58447",
   "metadata": {},
   "outputs": [
    {
     "data": {
      "text/html": [
       "<div>\n",
       "<style scoped>\n",
       "    .dataframe tbody tr th:only-of-type {\n",
       "        vertical-align: middle;\n",
       "    }\n",
       "\n",
       "    .dataframe tbody tr th {\n",
       "        vertical-align: top;\n",
       "    }\n",
       "\n",
       "    .dataframe thead th {\n",
       "        text-align: right;\n",
       "    }\n",
       "</style>\n",
       "<table border=\"1\" class=\"dataframe\">\n",
       "  <thead>\n",
       "    <tr style=\"text-align: right;\">\n",
       "      <th></th>\n",
       "      <th>True_val</th>\n",
       "      <th>Prediction_val</th>\n",
       "      <th>Category</th>\n",
       "      <th>diff</th>\n",
       "    </tr>\n",
       "  </thead>\n",
       "  <tbody>\n",
       "    <tr>\n",
       "      <th>0</th>\n",
       "      <td>17000</td>\n",
       "      <td>15371.754895</td>\n",
       "      <td>10k sampai &lt;50k</td>\n",
       "      <td>9.577912</td>\n",
       "    </tr>\n",
       "    <tr>\n",
       "      <th>1</th>\n",
       "      <td>30000</td>\n",
       "      <td>140895.336757</td>\n",
       "      <td>10k sampai &lt;50k</td>\n",
       "      <td>369.651123</td>\n",
       "    </tr>\n",
       "    <tr>\n",
       "      <th>2</th>\n",
       "      <td>16000</td>\n",
       "      <td>15430.675779</td>\n",
       "      <td>10k sampai &lt;50k</td>\n",
       "      <td>3.558276</td>\n",
       "    </tr>\n",
       "    <tr>\n",
       "      <th>3</th>\n",
       "      <td>90000</td>\n",
       "      <td>130817.588299</td>\n",
       "      <td>50k sampai 100k</td>\n",
       "      <td>45.352876</td>\n",
       "    </tr>\n",
       "    <tr>\n",
       "      <th>4</th>\n",
       "      <td>18000</td>\n",
       "      <td>37182.281755</td>\n",
       "      <td>10k sampai &lt;50k</td>\n",
       "      <td>106.568232</td>\n",
       "    </tr>\n",
       "    <tr>\n",
       "      <th>...</th>\n",
       "      <td>...</td>\n",
       "      <td>...</td>\n",
       "      <td>...</td>\n",
       "      <td>...</td>\n",
       "    </tr>\n",
       "    <tr>\n",
       "      <th>943</th>\n",
       "      <td>170000</td>\n",
       "      <td>105284.814783</td>\n",
       "      <td>diatas 100k</td>\n",
       "      <td>38.067756</td>\n",
       "    </tr>\n",
       "    <tr>\n",
       "      <th>944</th>\n",
       "      <td>20000</td>\n",
       "      <td>33807.366557</td>\n",
       "      <td>10k sampai &lt;50k</td>\n",
       "      <td>69.036833</td>\n",
       "    </tr>\n",
       "    <tr>\n",
       "      <th>945</th>\n",
       "      <td>7500</td>\n",
       "      <td>12500.403856</td>\n",
       "      <td>dibawah 10k</td>\n",
       "      <td>66.672051</td>\n",
       "    </tr>\n",
       "    <tr>\n",
       "      <th>946</th>\n",
       "      <td>9500</td>\n",
       "      <td>11613.085214</td>\n",
       "      <td>dibawah 10k</td>\n",
       "      <td>22.243002</td>\n",
       "    </tr>\n",
       "    <tr>\n",
       "      <th>947</th>\n",
       "      <td>140000</td>\n",
       "      <td>77909.923007</td>\n",
       "      <td>diatas 100k</td>\n",
       "      <td>44.350055</td>\n",
       "    </tr>\n",
       "  </tbody>\n",
       "</table>\n",
       "<p>948 rows × 4 columns</p>\n",
       "</div>"
      ],
      "text/plain": [
       "     True_val  Prediction_val         Category        diff\n",
       "0       17000    15371.754895  10k sampai <50k    9.577912\n",
       "1       30000   140895.336757  10k sampai <50k  369.651123\n",
       "2       16000    15430.675779  10k sampai <50k    3.558276\n",
       "3       90000   130817.588299  50k sampai 100k   45.352876\n",
       "4       18000    37182.281755  10k sampai <50k  106.568232\n",
       "..        ...             ...              ...         ...\n",
       "943    170000   105284.814783      diatas 100k   38.067756\n",
       "944     20000    33807.366557  10k sampai <50k   69.036833\n",
       "945      7500    12500.403856      dibawah 10k   66.672051\n",
       "946      9500    11613.085214      dibawah 10k   22.243002\n",
       "947    140000    77909.923007      diatas 100k   44.350055\n",
       "\n",
       "[948 rows x 4 columns]"
      ]
     },
     "execution_count": 47,
     "metadata": {},
     "output_type": "execute_result"
    }
   ],
   "source": [
    "hasil"
   ]
  },
  {
   "cell_type": "code",
   "execution_count": 48,
   "id": "9cd39ef9",
   "metadata": {},
   "outputs": [
    {
     "data": {
      "text/plain": [
       "Category\n",
       "10k sampai <50k    39.497867\n",
       "50k sampai 100k    36.978546\n",
       "diatas 100k        42.835840\n",
       "dibawah 10k        64.552800\n",
       "Name: diff, dtype: float64"
      ]
     },
     "execution_count": 48,
     "metadata": {},
     "output_type": "execute_result"
    }
   ],
   "source": [
    "hasil.groupby('Category')['diff'].mean()"
   ]
  },
  {
   "cell_type": "code",
   "execution_count": 49,
   "id": "dbaa832b",
   "metadata": {},
   "outputs": [
    {
     "data": {
      "image/png": "[encoded data removed]",
      "text/plain": [
       "<Figure size 720x360 with 1 Axes>"
      ]
     },
     "metadata": {
      "needs_background": "light"
     },
     "output_type": "display_data"
    }
   ],
   "source": [
    "hasil.groupby('Category')['diff'].mean().plot(kind='bar', figsize=(10,5))\n",
    "plt.title('Perbedaan Harga Nilai Sebenarnya dengan Harga Prediksi', fontsize=15, pad=20)\n",
    "plt.ylabel('Perbedaan Harga (%)', labelpad=10)\n",
    "plt.xlabel('Kategori', labelpad=10)\n",
    "plt.xticks(rotation=0)\n",
    "plt.show()"
   ]
  },
  {
   "cell_type": "markdown",
   "id": "a5008b51",
   "metadata": {},
   "source": [
    "Berdasarkan tabel serta grafik diatas, umumnya perbedaan harga yang dihasilkan oleh model sudah berada dibawah 50% kecuali untuk rentang harga dibawah 10.000. Menurut saya performa ini tidak terlalu buruk dan masih dapat diterima"
   ]
  },
  {
   "cell_type": "markdown",
   "id": "bcd8aba3",
   "metadata": {},
   "source": [
    "## Model dengan Nilai Label yang Diskalakan\n",
    "\n",
    "Seperti yang dibahas pada bagian pre-processing, nilai sewa (rent) memiliki rentang yang sangat besar. Nilai yang besar ini bisa membuat performa model menjadi kurang baik. Pada bagian ini saya mencoba melakukan *scaling* pada nilai sewa dan ingin melihat dampak yang dihasilkan pada performa model."
   ]
  },
  {
   "cell_type": "markdown",
   "id": "1d2fb066",
   "metadata": {},
   "source": [
    "## Scaling Nilai Label"
   ]
  },
  {
   "cell_type": "code",
   "execution_count": 52,
   "id": "391cc1e4",
   "metadata": {},
   "outputs": [],
   "source": [
    "y_train_scaled = np.log10(y_train)"
   ]
  },
  {
   "cell_type": "code",
   "execution_count": 53,
   "id": "4aa96cf4",
   "metadata": {},
   "outputs": [
    {
     "data": {
      "text/html": [
       "<div>\n",
       "<style scoped>\n",
       "    .dataframe tbody tr th:only-of-type {\n",
       "        vertical-align: middle;\n",
       "    }\n",
       "\n",
       "    .dataframe tbody tr th {\n",
       "        vertical-align: top;\n",
       "    }\n",
       "\n",
       "    .dataframe thead th {\n",
       "        text-align: right;\n",
       "    }\n",
       "</style>\n",
       "<table border=\"1\" class=\"dataframe\">\n",
       "  <thead>\n",
       "    <tr style=\"text-align: right;\">\n",
       "      <th></th>\n",
       "      <th>Rent</th>\n",
       "    </tr>\n",
       "  </thead>\n",
       "  <tbody>\n",
       "    <tr>\n",
       "      <th>0</th>\n",
       "      <td>4.732394</td>\n",
       "    </tr>\n",
       "    <tr>\n",
       "      <th>1</th>\n",
       "      <td>4.204120</td>\n",
       "    </tr>\n",
       "    <tr>\n",
       "      <th>2</th>\n",
       "      <td>4.146128</td>\n",
       "    </tr>\n",
       "    <tr>\n",
       "      <th>3</th>\n",
       "      <td>4.690196</td>\n",
       "    </tr>\n",
       "    <tr>\n",
       "      <th>4</th>\n",
       "      <td>4.477121</td>\n",
       "    </tr>\n",
       "    <tr>\n",
       "      <th>...</th>\n",
       "      <td>...</td>\n",
       "    </tr>\n",
       "    <tr>\n",
       "      <th>3786</th>\n",
       "      <td>5.602060</td>\n",
       "    </tr>\n",
       "    <tr>\n",
       "      <th>3787</th>\n",
       "      <td>3.903090</td>\n",
       "    </tr>\n",
       "    <tr>\n",
       "      <th>3788</th>\n",
       "      <td>4.517196</td>\n",
       "    </tr>\n",
       "    <tr>\n",
       "      <th>3789</th>\n",
       "      <td>4.491362</td>\n",
       "    </tr>\n",
       "    <tr>\n",
       "      <th>3790</th>\n",
       "      <td>3.740363</td>\n",
       "    </tr>\n",
       "  </tbody>\n",
       "</table>\n",
       "<p>3791 rows × 1 columns</p>\n",
       "</div>"
      ],
      "text/plain": [
       "          Rent\n",
       "0     4.732394\n",
       "1     4.204120\n",
       "2     4.146128\n",
       "3     4.690196\n",
       "4     4.477121\n",
       "...        ...\n",
       "3786  5.602060\n",
       "3787  3.903090\n",
       "3788  4.517196\n",
       "3789  4.491362\n",
       "3790  3.740363\n",
       "\n",
       "[3791 rows x 1 columns]"
      ]
     },
     "execution_count": 53,
     "metadata": {},
     "output_type": "execute_result"
    }
   ],
   "source": [
    "y_train_scaled"
   ]
  },
  {
   "cell_type": "code",
   "execution_count": 54,
   "id": "5424deb2",
   "metadata": {},
   "outputs": [
    {
     "name": "stdout",
     "output_type": "stream",
     "text": [
      "Fitting 3 folds for each of 100 candidates, totalling 300 fits\n"
     ]
    },
    {
     "name": "stderr",
     "output_type": "stream",
     "text": [
      "C:\\Users\\Rizaldi\\anaconda3\\lib\\site-packages\\sklearn\\model_selection\\_search.py:910: DataConversionWarning: A column-vector y was passed when a 1d array was expected. Please change the shape of y to (n_samples,), for example using ravel().\n",
      "  self.best_estimator_.fit(X, y, **fit_params)\n"
     ]
    },
    {
     "data": {
      "text/html": [
       "<style>#sk-container-id-3 {color: black;background-color: white;}#sk-container-id-3 pre{padding: 0;}#sk-container-id-3 div.sk-toggleable {background-color: white;}#sk-container-id-3 label.sk-toggleable__label {cursor: pointer;display: block;width: 100%;margin-bottom: 0;padding: 0.3em;box-sizing: border-box;text-align: center;}#sk-container-id-3 label.sk-toggleable__label-arrow:before {content: \"▸\";float: left;margin-right: 0.25em;color: #696969;}#sk-container-id-3 label.sk-toggleable__label-arrow:hover:before {color: black;}#sk-container-id-3 div.sk-estimator:hover label.sk-toggleable__label-arrow:before {color: black;}#sk-container-id-3 div.sk-toggleable__content {max-height: 0;max-width: 0;overflow: hidden;text-align: left;background-color: #f0f8ff;}#sk-container-id-3 div.sk-toggleable__content pre {margin: 0.2em;color: black;border-radius: 0.25em;background-color: #f0f8ff;}#sk-container-id-3 input.sk-toggleable__control:checked~div.sk-toggleable__content {max-height: 200px;max-width: 100%;overflow: auto;}#sk-container-id-3 input.sk-toggleable__control:checked~label.sk-toggleable__label-arrow:before {content: \"▾\";}#sk-container-id-3 div.sk-estimator input.sk-toggleable__control:checked~label.sk-toggleable__label {background-color: #d4ebff;}#sk-container-id-3 div.sk-label input.sk-toggleable__control:checked~label.sk-toggleable__label {background-color: #d4ebff;}#sk-container-id-3 input.sk-hidden--visually {border: 0;clip: rect(1px 1px 1px 1px);clip: rect(1px, 1px, 1px, 1px);height: 1px;margin: -1px;overflow: hidden;padding: 0;position: absolute;width: 1px;}#sk-container-id-3 div.sk-estimator {font-family: monospace;background-color: #f0f8ff;border: 1px dotted black;border-radius: 0.25em;box-sizing: border-box;margin-bottom: 0.5em;}#sk-container-id-3 div.sk-estimator:hover {background-color: #d4ebff;}#sk-container-id-3 div.sk-parallel-item::after {content: \"\";width: 100%;border-bottom: 1px solid gray;flex-grow: 1;}#sk-container-id-3 div.sk-label:hover label.sk-toggleable__label {background-color: #d4ebff;}#sk-container-id-3 div.sk-serial::before {content: \"\";position: absolute;border-left: 1px solid gray;box-sizing: border-box;top: 0;bottom: 0;left: 50%;z-index: 0;}#sk-container-id-3 div.sk-serial {display: flex;flex-direction: column;align-items: center;background-color: white;padding-right: 0.2em;padding-left: 0.2em;position: relative;}#sk-container-id-3 div.sk-item {position: relative;z-index: 1;}#sk-container-id-3 div.sk-parallel {display: flex;align-items: stretch;justify-content: center;background-color: white;position: relative;}#sk-container-id-3 div.sk-item::before, #sk-container-id-3 div.sk-parallel-item::before {content: \"\";position: absolute;border-left: 1px solid gray;box-sizing: border-box;top: 0;bottom: 0;left: 50%;z-index: -1;}#sk-container-id-3 div.sk-parallel-item {display: flex;flex-direction: column;z-index: 1;position: relative;background-color: white;}#sk-container-id-3 div.sk-parallel-item:first-child::after {align-self: flex-end;width: 50%;}#sk-container-id-3 div.sk-parallel-item:last-child::after {align-self: flex-start;width: 50%;}#sk-container-id-3 div.sk-parallel-item:only-child::after {width: 0;}#sk-container-id-3 div.sk-dashed-wrapped {border: 1px dashed gray;margin: 0 0.4em 0.5em 0.4em;box-sizing: border-box;padding-bottom: 0.4em;background-color: white;}#sk-container-id-3 div.sk-label label {font-family: monospace;font-weight: bold;display: inline-block;line-height: 1.2em;}#sk-container-id-3 div.sk-label-container {text-align: center;}#sk-container-id-3 div.sk-container {/* jupyter's `normalize.less` sets `[hidden] { display: none; }` but bootstrap.min.css set `[hidden] { display: none !important; }` so we also need the `!important` here to be able to override the default hidden behavior on the sphinx rendered scikit-learn.org. See: https://github.com/scikit-learn/scikit-learn/issues/21755 */display: inline-block !important;position: relative;}#sk-container-id-3 div.sk-text-repr-fallback {display: none;}</style><div id=\"sk-container-id-3\" class=\"sk-top-container\"><div class=\"sk-text-repr-fallback\"><pre>RandomizedSearchCV(cv=3, estimator=RandomForestRegressor(), n_iter=100,\n",
       "                   n_jobs=-1,\n",
       "                   param_distributions={&#x27;bootstrap&#x27;: [True, False],\n",
       "                                        &#x27;max_depth&#x27;: [10, 20, 30, 40, 50, 60,\n",
       "                                                      70, 80, 90, 100, 110,\n",
       "                                                      None],\n",
       "                                        &#x27;max_features&#x27;: [&#x27;auto&#x27;, &#x27;sqrt&#x27;],\n",
       "                                        &#x27;min_samples_leaf&#x27;: [1, 2, 4],\n",
       "                                        &#x27;min_samples_split&#x27;: [2, 5, 10],\n",
       "                                        &#x27;n_estimators&#x27;: [200, 400, 600, 800,\n",
       "                                                         1000, 1200, 1400, 1600,\n",
       "                                                         1800, 2000]},\n",
       "                   random_state=42, verbose=2)</pre><b>In a Jupyter environment, please rerun this cell to show the HTML representation or trust the notebook. <br />On GitHub, the HTML representation is unable to render, please try loading this page with nbviewer.org.</b></div><div class=\"sk-container\" hidden><div class=\"sk-item sk-dashed-wrapped\"><div class=\"sk-label-container\"><div class=\"sk-label sk-toggleable\"><input class=\"sk-toggleable__control sk-hidden--visually\" id=\"sk-estimator-id-7\" type=\"checkbox\" ><label for=\"sk-estimator-id-7\" class=\"sk-toggleable__label sk-toggleable__label-arrow\">RandomizedSearchCV</label><div class=\"sk-toggleable__content\"><pre>RandomizedSearchCV(cv=3, estimator=RandomForestRegressor(), n_iter=100,\n",
       "                   n_jobs=-1,\n",
       "                   param_distributions={&#x27;bootstrap&#x27;: [True, False],\n",
       "                                        &#x27;max_depth&#x27;: [10, 20, 30, 40, 50, 60,\n",
       "                                                      70, 80, 90, 100, 110,\n",
       "                                                      None],\n",
       "                                        &#x27;max_features&#x27;: [&#x27;auto&#x27;, &#x27;sqrt&#x27;],\n",
       "                                        &#x27;min_samples_leaf&#x27;: [1, 2, 4],\n",
       "                                        &#x27;min_samples_split&#x27;: [2, 5, 10],\n",
       "                                        &#x27;n_estimators&#x27;: [200, 400, 600, 800,\n",
       "                                                         1000, 1200, 1400, 1600,\n",
       "                                                         1800, 2000]},\n",
       "                   random_state=42, verbose=2)</pre></div></div></div><div class=\"sk-parallel\"><div class=\"sk-parallel-item\"><div class=\"sk-item\"><div class=\"sk-label-container\"><div class=\"sk-label sk-toggleable\"><input class=\"sk-toggleable__control sk-hidden--visually\" id=\"sk-estimator-id-8\" type=\"checkbox\" ><label for=\"sk-estimator-id-8\" class=\"sk-toggleable__label sk-toggleable__label-arrow\">estimator: RandomForestRegressor</label><div class=\"sk-toggleable__content\"><pre>RandomForestRegressor()</pre></div></div></div><div class=\"sk-serial\"><div class=\"sk-item\"><div class=\"sk-estimator sk-toggleable\"><input class=\"sk-toggleable__control sk-hidden--visually\" id=\"sk-estimator-id-9\" type=\"checkbox\" ><label for=\"sk-estimator-id-9\" class=\"sk-toggleable__label sk-toggleable__label-arrow\">RandomForestRegressor</label><div class=\"sk-toggleable__content\"><pre>RandomForestRegressor()</pre></div></div></div></div></div></div></div></div></div></div>"
      ],
      "text/plain": [
       "RandomizedSearchCV(cv=3, estimator=RandomForestRegressor(), n_iter=100,\n",
       "                   n_jobs=-1,\n",
       "                   param_distributions={'bootstrap': [True, False],\n",
       "                                        'max_depth': [10, 20, 30, 40, 50, 60,\n",
       "                                                      70, 80, 90, 100, 110,\n",
       "                                                      None],\n",
       "                                        'max_features': ['auto', 'sqrt'],\n",
       "                                        'min_samples_leaf': [1, 2, 4],\n",
       "                                        'min_samples_split': [2, 5, 10],\n",
       "                                        'n_estimators': [200, 400, 600, 800,\n",
       "                                                         1000, 1200, 1400, 1600,\n",
       "                                                         1800, 2000]},\n",
       "                   random_state=42, verbose=2)"
      ]
     },
     "execution_count": 54,
     "metadata": {},
     "output_type": "execute_result"
    }
   ],
   "source": [
    "rf2 = RandomForestRegressor()\n",
    "# Random search dari parameter, menggunakan 3 fold cross validation, dengan jumlah parameter yang disamplekan adalah 100 (100 kombinasi)\n",
    "rf2_random = RandomizedSearchCV(estimator = rf2, param_distributions = random_grid, n_iter = 100, cv = 3, verbose=2, random_state=42, n_jobs = -1)\n",
    "rf2_random.fit(x_train, y_train_scaled)"
   ]
  },
  {
   "cell_type": "code",
   "execution_count": 55,
   "id": "5c082153",
   "metadata": {},
   "outputs": [
    {
     "data": {
      "text/plain": [
       "{'n_estimators': 1000,\n",
       " 'min_samples_split': 5,\n",
       " 'min_samples_leaf': 2,\n",
       " 'max_features': 'sqrt',\n",
       " 'max_depth': 10,\n",
       " 'bootstrap': True}"
      ]
     },
     "execution_count": 55,
     "metadata": {},
     "output_type": "execute_result"
    }
   ],
   "source": [
    "rf2_random.best_params_"
   ]
  },
  {
   "cell_type": "code",
   "execution_count": 56,
   "id": "c4316e75",
   "metadata": {},
   "outputs": [],
   "source": [
    "y_test_scaled = np.log10(y_test)"
   ]
  },
  {
   "cell_type": "code",
   "execution_count": 60,
   "id": "ce45c9d0",
   "metadata": {},
   "outputs": [
    {
     "name": "stderr",
     "output_type": "stream",
     "text": [
      "C:\\Users\\Rizaldi\\AppData\\Local\\Temp\\ipykernel_10228\\2456181477.py:2: DataConversionWarning: A column-vector y was passed when a 1d array was expected. Please change the shape of y to (n_samples,), for example using ravel().\n",
      "  base_model.fit(x_train, y_train_scaled)\n"
     ]
    },
    {
     "name": "stdout",
     "output_type": "stream",
     "text": [
      "Performa Model\n",
      "Average Error: 0.4371.\n",
      "Performa Model\n",
      "Average Error: 0.4183.\n"
     ]
    }
   ],
   "source": [
    "base_model = RandomForestRegressor(n_estimators = 10, random_state = 0)\n",
    "base_model.fit(x_train, y_train_scaled)\n",
    "base_accuracy = evaluate(base_model, x_test_scaled, y_test_scaled)\n",
    "\n",
    "best_random = rf2_random.best_estimator_\n",
    "random_accuracy = evaluate(best_random, x_test_scaled, y_test_scaled)\n"
   ]
  },
  {
   "cell_type": "code",
   "execution_count": 61,
   "id": "95b64d3d",
   "metadata": {},
   "outputs": [
    {
     "data": {
      "text/plain": [
       "0.7509640335875674"
      ]
     },
     "execution_count": 61,
     "metadata": {},
     "output_type": "execute_result"
    }
   ],
   "source": [
    "best_random.score(x_test_scaled,y_test_scaled)"
   ]
  },
  {
   "cell_type": "code",
   "execution_count": 63,
   "id": "9f142846",
   "metadata": {},
   "outputs": [],
   "source": [
    "param_grid2 = {\n",
    "    'bootstrap': [True],\n",
    "    'max_depth': [10, 20, 30, 40],\n",
    "    'max_features': ['sqrt'],\n",
    "    'min_samples_leaf': [2, 3, 4],\n",
    "    'min_samples_split': [5, 8, 11],\n",
    "    'n_estimators': [1000, 1050, 1100, 1150]\n",
    "}\n",
    "\n",
    "rf_scaled = RandomForestRegressor()\n",
    "grid_search_scaled = GridSearchCV(estimator = rf_scaled, param_grid = param_grid2, \n",
    "                          cv = 3, n_jobs = -1, verbose = 2)"
   ]
  },
  {
   "cell_type": "code",
   "execution_count": 64,
   "id": "dd3b80cb",
   "metadata": {},
   "outputs": [
    {
     "name": "stdout",
     "output_type": "stream",
     "text": [
      "Fitting 3 folds for each of 144 candidates, totalling 432 fits\n"
     ]
    },
    {
     "name": "stderr",
     "output_type": "stream",
     "text": [
      "C:\\Users\\Rizaldi\\anaconda3\\lib\\site-packages\\sklearn\\model_selection\\_search.py:910: DataConversionWarning: A column-vector y was passed when a 1d array was expected. Please change the shape of y to (n_samples,), for example using ravel().\n",
      "  self.best_estimator_.fit(X, y, **fit_params)\n"
     ]
    },
    {
     "data": {
      "text/html": [
       "<style>#sk-container-id-4 {color: black;background-color: white;}#sk-container-id-4 pre{padding: 0;}#sk-container-id-4 div.sk-toggleable {background-color: white;}#sk-container-id-4 label.sk-toggleable__label {cursor: pointer;display: block;width: 100%;margin-bottom: 0;padding: 0.3em;box-sizing: border-box;text-align: center;}#sk-container-id-4 label.sk-toggleable__label-arrow:before {content: \"▸\";float: left;margin-right: 0.25em;color: #696969;}#sk-container-id-4 label.sk-toggleable__label-arrow:hover:before {color: black;}#sk-container-id-4 div.sk-estimator:hover label.sk-toggleable__label-arrow:before {color: black;}#sk-container-id-4 div.sk-toggleable__content {max-height: 0;max-width: 0;overflow: hidden;text-align: left;background-color: #f0f8ff;}#sk-container-id-4 div.sk-toggleable__content pre {margin: 0.2em;color: black;border-radius: 0.25em;background-color: #f0f8ff;}#sk-container-id-4 input.sk-toggleable__control:checked~div.sk-toggleable__content {max-height: 200px;max-width: 100%;overflow: auto;}#sk-container-id-4 input.sk-toggleable__control:checked~label.sk-toggleable__label-arrow:before {content: \"▾\";}#sk-container-id-4 div.sk-estimator input.sk-toggleable__control:checked~label.sk-toggleable__label {background-color: #d4ebff;}#sk-container-id-4 div.sk-label input.sk-toggleable__control:checked~label.sk-toggleable__label {background-color: #d4ebff;}#sk-container-id-4 input.sk-hidden--visually {border: 0;clip: rect(1px 1px 1px 1px);clip: rect(1px, 1px, 1px, 1px);height: 1px;margin: -1px;overflow: hidden;padding: 0;position: absolute;width: 1px;}#sk-container-id-4 div.sk-estimator {font-family: monospace;background-color: #f0f8ff;border: 1px dotted black;border-radius: 0.25em;box-sizing: border-box;margin-bottom: 0.5em;}#sk-container-id-4 div.sk-estimator:hover {background-color: #d4ebff;}#sk-container-id-4 div.sk-parallel-item::after {content: \"\";width: 100%;border-bottom: 1px solid gray;flex-grow: 1;}#sk-container-id-4 div.sk-label:hover label.sk-toggleable__label {background-color: #d4ebff;}#sk-container-id-4 div.sk-serial::before {content: \"\";position: absolute;border-left: 1px solid gray;box-sizing: border-box;top: 0;bottom: 0;left: 50%;z-index: 0;}#sk-container-id-4 div.sk-serial {display: flex;flex-direction: column;align-items: center;background-color: white;padding-right: 0.2em;padding-left: 0.2em;position: relative;}#sk-container-id-4 div.sk-item {position: relative;z-index: 1;}#sk-container-id-4 div.sk-parallel {display: flex;align-items: stretch;justify-content: center;background-color: white;position: relative;}#sk-container-id-4 div.sk-item::before, #sk-container-id-4 div.sk-parallel-item::before {content: \"\";position: absolute;border-left: 1px solid gray;box-sizing: border-box;top: 0;bottom: 0;left: 50%;z-index: -1;}#sk-container-id-4 div.sk-parallel-item {display: flex;flex-direction: column;z-index: 1;position: relative;background-color: white;}#sk-container-id-4 div.sk-parallel-item:first-child::after {align-self: flex-end;width: 50%;}#sk-container-id-4 div.sk-parallel-item:last-child::after {align-self: flex-start;width: 50%;}#sk-container-id-4 div.sk-parallel-item:only-child::after {width: 0;}#sk-container-id-4 div.sk-dashed-wrapped {border: 1px dashed gray;margin: 0 0.4em 0.5em 0.4em;box-sizing: border-box;padding-bottom: 0.4em;background-color: white;}#sk-container-id-4 div.sk-label label {font-family: monospace;font-weight: bold;display: inline-block;line-height: 1.2em;}#sk-container-id-4 div.sk-label-container {text-align: center;}#sk-container-id-4 div.sk-container {/* jupyter's `normalize.less` sets `[hidden] { display: none; }` but bootstrap.min.css set `[hidden] { display: none !important; }` so we also need the `!important` here to be able to override the default hidden behavior on the sphinx rendered scikit-learn.org. See: https://github.com/scikit-learn/scikit-learn/issues/21755 */display: inline-block !important;position: relative;}#sk-container-id-4 div.sk-text-repr-fallback {display: none;}</style><div id=\"sk-container-id-4\" class=\"sk-top-container\"><div class=\"sk-text-repr-fallback\"><pre>GridSearchCV(cv=3, estimator=RandomForestRegressor(), n_jobs=-1,\n",
       "             param_grid={&#x27;bootstrap&#x27;: [True], &#x27;max_depth&#x27;: [10, 20, 30, 40],\n",
       "                         &#x27;max_features&#x27;: [&#x27;sqrt&#x27;],\n",
       "                         &#x27;min_samples_leaf&#x27;: [2, 3, 4],\n",
       "                         &#x27;min_samples_split&#x27;: [5, 8, 11],\n",
       "                         &#x27;n_estimators&#x27;: [1000, 1050, 1100, 1150]},\n",
       "             verbose=2)</pre><b>In a Jupyter environment, please rerun this cell to show the HTML representation or trust the notebook. <br />On GitHub, the HTML representation is unable to render, please try loading this page with nbviewer.org.</b></div><div class=\"sk-container\" hidden><div class=\"sk-item sk-dashed-wrapped\"><div class=\"sk-label-container\"><div class=\"sk-label sk-toggleable\"><input class=\"sk-toggleable__control sk-hidden--visually\" id=\"sk-estimator-id-10\" type=\"checkbox\" ><label for=\"sk-estimator-id-10\" class=\"sk-toggleable__label sk-toggleable__label-arrow\">GridSearchCV</label><div class=\"sk-toggleable__content\"><pre>GridSearchCV(cv=3, estimator=RandomForestRegressor(), n_jobs=-1,\n",
       "             param_grid={&#x27;bootstrap&#x27;: [True], &#x27;max_depth&#x27;: [10, 20, 30, 40],\n",
       "                         &#x27;max_features&#x27;: [&#x27;sqrt&#x27;],\n",
       "                         &#x27;min_samples_leaf&#x27;: [2, 3, 4],\n",
       "                         &#x27;min_samples_split&#x27;: [5, 8, 11],\n",
       "                         &#x27;n_estimators&#x27;: [1000, 1050, 1100, 1150]},\n",
       "             verbose=2)</pre></div></div></div><div class=\"sk-parallel\"><div class=\"sk-parallel-item\"><div class=\"sk-item\"><div class=\"sk-label-container\"><div class=\"sk-label sk-toggleable\"><input class=\"sk-toggleable__control sk-hidden--visually\" id=\"sk-estimator-id-11\" type=\"checkbox\" ><label for=\"sk-estimator-id-11\" class=\"sk-toggleable__label sk-toggleable__label-arrow\">estimator: RandomForestRegressor</label><div class=\"sk-toggleable__content\"><pre>RandomForestRegressor()</pre></div></div></div><div class=\"sk-serial\"><div class=\"sk-item\"><div class=\"sk-estimator sk-toggleable\"><input class=\"sk-toggleable__control sk-hidden--visually\" id=\"sk-estimator-id-12\" type=\"checkbox\" ><label for=\"sk-estimator-id-12\" class=\"sk-toggleable__label sk-toggleable__label-arrow\">RandomForestRegressor</label><div class=\"sk-toggleable__content\"><pre>RandomForestRegressor()</pre></div></div></div></div></div></div></div></div></div></div>"
      ],
      "text/plain": [
       "GridSearchCV(cv=3, estimator=RandomForestRegressor(), n_jobs=-1,\n",
       "             param_grid={'bootstrap': [True], 'max_depth': [10, 20, 30, 40],\n",
       "                         'max_features': ['sqrt'],\n",
       "                         'min_samples_leaf': [2, 3, 4],\n",
       "                         'min_samples_split': [5, 8, 11],\n",
       "                         'n_estimators': [1000, 1050, 1100, 1150]},\n",
       "             verbose=2)"
      ]
     },
     "execution_count": 64,
     "metadata": {},
     "output_type": "execute_result"
    }
   ],
   "source": [
    "grid_search_scaled.fit(x_train, y_train_scaled)"
   ]
  },
  {
   "cell_type": "code",
   "execution_count": 65,
   "id": "32576764",
   "metadata": {},
   "outputs": [
    {
     "data": {
      "text/plain": [
       "{'bootstrap': True,\n",
       " 'max_depth': 10,\n",
       " 'max_features': 'sqrt',\n",
       " 'min_samples_leaf': 2,\n",
       " 'min_samples_split': 5,\n",
       " 'n_estimators': 1050}"
      ]
     },
     "execution_count": 65,
     "metadata": {},
     "output_type": "execute_result"
    }
   ],
   "source": [
    "grid_search_scaled.best_params_"
   ]
  },
  {
   "cell_type": "code",
   "execution_count": 67,
   "id": "b06899d5",
   "metadata": {},
   "outputs": [
    {
     "name": "stdout",
     "output_type": "stream",
     "text": [
      "Performa Model\n",
      "Average Error: 0.4187.\n"
     ]
    }
   ],
   "source": [
    "best_grid_scaled = grid_search_scaled.best_estimator_\n",
    "grid_accuracy_scaled = evaluate(best_grid_scaled, x_test_scaled, y_test_scaled)"
   ]
  },
  {
   "cell_type": "code",
   "execution_count": 69,
   "id": "a79f6613",
   "metadata": {},
   "outputs": [
    {
     "data": {
      "text/plain": [
       "0.7514874386651953"
      ]
     },
     "execution_count": 69,
     "metadata": {},
     "output_type": "execute_result"
    }
   ],
   "source": [
    "best_grid_scaled.score(x_test_scaled,y_test_scaled)"
   ]
  },
  {
   "cell_type": "code",
   "execution_count": 73,
   "id": "8d7df298",
   "metadata": {},
   "outputs": [],
   "source": [
    "y_pred_test = best_grid_scaled.predict(x_test_scaled)\n",
    "y_pred_new = np.power(10, y_pred_test)"
   ]
  },
  {
   "cell_type": "code",
   "execution_count": 75,
   "id": "7543b59e",
   "metadata": {},
   "outputs": [
    {
     "data": {
      "text/plain": [
       "array([ 14517.27181772,  82068.16441667,  14770.15473784, 110652.81118591,\n",
       "        30048.43346704,  13267.33049853,  21359.99692238,  12885.45581727,\n",
       "        13806.72868577,   8227.61719202,  13838.24758391,  15904.08056187,\n",
       "        22710.50467949,  18268.67968145,  30609.54676364,  10365.16223343,\n",
       "        28811.75111957,  11342.84815844,   7554.63951185,   7116.08337988,\n",
       "         6615.40663284,  21057.27663759,  43424.56545913,  22867.4668498 ,\n",
       "       153669.94563472,  38451.28622348, 123592.32884064,   9043.78764807,\n",
       "        56481.44805707,  10834.37830021,  20307.91133352,  14321.85006614,\n",
       "        14517.27181772,  31775.25479948,  31384.15263723,  13538.95555202,\n",
       "         9203.26850923,  11649.42582747,  29729.36746538,  60782.80719569,\n",
       "       115470.75756959,  12033.46852944, 355101.2883773 ,  14233.32337228,\n",
       "        26842.62511734,  12586.1250518 ,  22867.4668498 ,  26700.23744665,\n",
       "         7332.98709115,  23441.90128059,  19650.92960697,  15225.87850838,\n",
       "        21399.32800362,  12885.45581727,  14410.76320562,  12885.45581727,\n",
       "        18290.15897611,  34240.70542098,  72575.59612456,  18475.07483884,\n",
       "        26583.22152022,  13767.67962895,  23140.67349494, 114954.23569596,\n",
       "        14923.37271301,  89999.48522321,  14128.05881729, 173468.73427219,\n",
       "        45053.90106686,  13871.79051542,  10328.18248079,  21380.63142502,\n",
       "        13926.43130599,  14900.72781122,  41618.5575684 ,   7976.81956583,\n",
       "        24099.07288297,  12166.5350869 ,   9043.78764807,   8718.06744507,\n",
       "        14569.17644191,  19776.7927419 ,   8779.12103512,  27386.1555588 ,\n",
       "         9533.22648583,  71095.8827614 ,  30157.52892709,  18127.7755675 ,\n",
       "        14597.40652275,  12852.98743546,   9149.0136383 ,  58047.65952537,\n",
       "         7642.27297972,  70909.56547893,  16166.56271777,  34478.88713176,\n",
       "         6093.52651469, 243705.79922273, 172746.96708333,  15558.86174033,\n",
       "        14497.40424279,  12490.63050289, 108042.8509426 ,  12386.79730562,\n",
       "        12310.77802347,  92145.76186782,  10586.84443602,   7604.56787017,\n",
       "        43539.86383566,  14167.81416233,  11986.18552705,  14050.56511993,\n",
       "        34832.6532001 , 178419.24234783,  18123.46833235, 130814.51465524,\n",
       "        47850.45980889,  13244.57004543,  44661.31916369,  31775.25479948,\n",
       "         8048.28139276,  10170.5673903 ,  43799.65436348,  11094.98329046,\n",
       "        13696.06304678,  39001.36866565,   5991.87421316,  55196.93797423,\n",
       "        11512.57249743,  13977.0971    ,  21433.928623  ,  14517.27181772,\n",
       "        26525.9970508 ,  11612.237059  ,  50241.10625436,   8140.14350001,\n",
       "        22828.0656985 ,  14517.27181772, 172433.25168452,  28364.38974892,\n",
       "        11715.58338911,  27054.89650439,  12873.85009766,  22834.66580924,\n",
       "        16609.46497708,  59967.78022387,  17458.22350333,  23202.08537876,\n",
       "        15479.35737987,   8227.16559812,  18201.37624528,   7984.20454374,\n",
       "        13992.81320581,  18411.13211923,  18353.9883191 ,  15088.25943482,\n",
       "         7950.85173811,  73661.67956315,  64282.47593478, 224708.60121462,\n",
       "        14609.09403928,  16205.04915626,  63963.34065368,  21386.23280265,\n",
       "        18443.46547419,  15421.11723509,   7083.97257256,   7554.63951185,\n",
       "        27344.06510574,  32998.95761091,   9275.32499948,  11709.49238011,\n",
       "        13992.81320581,  10006.10495366,   5884.86806826, 117161.33606771,\n",
       "        12841.91798299,  14677.31808049, 156521.8311975 ,   8614.54915628,\n",
       "         7514.22932105,  29149.59788321,  21070.70423346,   5861.86702356,\n",
       "         7825.16858871,  12311.68194985,  19741.27642359,  60677.89178969,\n",
       "        10343.43435864,   7642.27297972,   8168.93456027,  18375.46695538,\n",
       "        11680.15030003,  30146.04832939,  19457.08920134,  89850.04553873,\n",
       "        19736.96076241,  23360.34322684,  12817.29101487,  23260.41320703,\n",
       "        66093.57557047,  10486.78870883,  20289.59061706,  19042.2469181 ,\n",
       "        10782.50731014,  51097.81190756,  49024.44607891,  13362.61989518,\n",
       "         8396.84695617,  84228.56424163,  11784.30978   ,   6093.52651469,\n",
       "        70466.97564343,   7380.42646403,  13378.77691354,  75126.61741036,\n",
       "        20729.54387574,   8614.54915628,  12080.66609034,  12163.35685856,\n",
       "        17903.93759867,  19350.46679215,   7803.95471602,  18445.24363013,\n",
       "         8087.47152772,  87091.18446657,  13717.58705729,  50548.5553018 ,\n",
       "        88509.21452816,  14633.57942419,   8188.90682604,   8428.75048058,\n",
       "        12474.76325538,  13365.2938914 ,  12972.71965869,  56156.80253781,\n",
       "        14048.61530431,  14295.28207469,  16340.52325437,  10206.54057697,\n",
       "         9337.38256573,   9297.77541525,  17156.47044465,   8867.2364665 ,\n",
       "        12909.19027395,  17277.58703525,  26583.22152022,   8205.23990991,\n",
       "        13476.6269725 ,   9155.97456408,  20687.90236748,  14940.07823688,\n",
       "        27702.56897597,  14832.20415721,  12934.57607861,  32444.56315934,\n",
       "        20271.63364262, 118380.70858985,  51013.32448488,  13136.25477636,\n",
       "        57933.63136134,   7116.08337988,   6450.77166047,  13893.2102118 ,\n",
       "        12368.0036383 ,  21419.00138562, 107028.80322652,  23407.68806183,\n",
       "         9107.56253368,  61351.04430091,  42681.92555471,  10544.04531547,\n",
       "        27309.95547488,  23630.30420465,   8227.23017888,  62635.2049703 ,\n",
       "        18250.37194027,   8389.6015307 ,  14048.09666055,   6524.15403656,\n",
       "        70300.59848339,  11827.30914424, 100461.76203226, 272018.33118704,\n",
       "        11458.54782044,  11735.50736708,  45564.23913669,  43821.2749136 ,\n",
       "        14818.680736  ,   9149.0136383 ,   5113.48393787,   8925.4311784 ,\n",
       "        14770.15473784,  16910.23487836,  69656.34065635,  12423.25537457,\n",
       "        57798.75386239,  10687.95988187,   8684.42095802,  31050.18907431,\n",
       "        17430.47919477,  13833.40273953,  18738.13205303,  26388.10783774,\n",
       "         5014.84213385,  10687.95988187,  14328.23104481,  16789.01700532,\n",
       "         8082.94660115,  12748.19232377,   9858.09569056,  21906.41546617,\n",
       "        69898.6024219 ,  14783.62762064,  12905.15591095,  15316.986655  ,\n",
       "        70674.44120926,  24556.89792773,  30528.74689953,  14432.33858005,\n",
       "        13172.42976826,  11458.48696089,  45066.99234878,  11391.48581899,\n",
       "         8124.84341576,  11054.24448578,   7212.6762021 ,  42073.41675031,\n",
       "        20253.51853495,  22172.96701113,   8586.02120713, 222505.52993881,\n",
       "        22363.83110278,  35517.74244744,  78377.70570691,  14213.41191797,\n",
       "         7596.40401186,  28451.22315867,   8972.75915363,  28506.90380482,\n",
       "        12210.23092302,   9942.48618416,   9437.96907623,  25034.92232475,\n",
       "         9740.58348834, 165145.1049836 ,  13342.04001608,  22928.69716083,\n",
       "        13707.88362904,  15217.06037014,  53704.10441659,  13629.06563303,\n",
       "         7083.1566908 ,  21089.44350489,  18505.55062971,  47913.12151242,\n",
       "        14252.76543506,  30278.42666984,  28121.83747227,  13538.95555202,\n",
       "        24259.32036337,  14429.81845356,  22497.61709731,   7362.32269519,\n",
       "       123937.34751077,  13814.06596044,  54364.09874879, 117075.25409829,\n",
       "        20614.59613648,  52125.71871275,   8903.43798137,  10875.92182775,\n",
       "        45821.59469275,  20934.8573795 , 141710.95133457,  12489.79759599,\n",
       "        53399.8653993 ,   5264.53529903,   9544.50982262,  23769.01581779,\n",
       "        95946.48285287,  18096.51728128,  10618.37271295,  31638.26117944,\n",
       "        13442.07296114,  97268.42781847,   6315.55549597,  43409.45990972,\n",
       "        13830.04096587,  19633.48967267,   6866.38592946,  12501.34298011,\n",
       "         9541.96144935,   7452.59596245,  14832.20415721,  12176.59700599,\n",
       "         8682.18294233,   8748.83182828,  59418.33627306,  19698.03720963,\n",
       "        14770.15473784,  48762.62034341,  70670.06149572,  12510.87307644,\n",
       "        14193.26993104,  59720.95733512,  27194.83755771,  10170.11587541,\n",
       "         9043.78764807,   9017.7342452 ,   8245.43038868,   8343.6738371 ,\n",
       "        11709.49238011,  11567.83384315,  17481.08568603,   5400.86634224,\n",
       "        60976.87233702,  16556.70388352,  15217.06037014,  41864.20053953,\n",
       "        20574.09970029,  46576.47335929,  13484.12959538,  14344.50963754,\n",
       "        15584.67410891,  17524.07238671,   6866.38592946,  13484.12959538,\n",
       "         7324.00177626,   8614.54915628,  14517.27181772,  14658.88003844,\n",
       "        12694.03726853,  12049.32005072,  13941.16095287,  48823.1555803 ,\n",
       "        12909.19027395,  22710.70789913,  13700.68187026,   7496.22873888,\n",
       "         8614.54915628,  14318.59812345,  10541.39949507,  35717.64141154,\n",
       "       235672.45841387,   7074.88517805,  13028.83284732, 146302.24608399,\n",
       "        23018.68197492,  52318.87626642,  14569.17644191,  12824.83371606,\n",
       "        13219.32397397,  21378.96054639,  59261.67271907,  27144.90123555,\n",
       "        32605.16570191,   8227.61719202,  10847.78655048,  29092.6700331 ,\n",
       "        13867.23130961,  29674.82887678,   8471.7636364 ,  36407.06168639,\n",
       "        40099.663606  ,  17554.3304005 ,  11712.49758866,  38700.97545582,\n",
       "        31390.71894463,   7958.62869631,  42406.64186922,  14497.97312946,\n",
       "        32198.67711493,  42871.74328684,   9658.62370501,  15848.26082497,\n",
       "        14653.56545511,   8482.60795537,  93178.56810131,  16910.23487836,\n",
       "       142827.09934725,  13808.16435026,  11717.34995044,  15049.36926994,\n",
       "        23550.00321621,   7642.27297972,  10512.26325734,  12049.32005072,\n",
       "        51501.68501406,  10206.54057697, 180885.47485568,   8625.3121201 ,\n",
       "        12360.63625948,  15905.69750074,   8764.59025019,  14517.27181772,\n",
       "        15120.73722627,   6576.71676361,  23454.57477129,  15464.02892805,\n",
       "        48400.48236336,  16068.7289025 ,  11553.22484389,  34832.6532001 ,\n",
       "        13926.43130599,  44613.39393671,   7492.51089523,  10551.40427863,\n",
       "        15593.28580428,   7157.18687222,  13774.72189383,  12885.45581727,\n",
       "        44560.10596372,  11451.94589002,  12601.29841182,  35862.37866035,\n",
       "        14832.20415721,  25309.17861236,  14770.15473784,  17838.38783775,\n",
       "        11537.55472061,  14164.26024341,  13838.24758391,  15088.25943482,\n",
       "        36031.64220727,  32510.26391057,  19297.83761752,  21418.57337088,\n",
       "        14770.15473784,  10544.04531547,  10534.76212001, 263478.23155594,\n",
       "         9533.22648583,  14242.08357736,  14410.76320562,   7964.38038142,\n",
       "         7212.6762021 ,  15138.36033364,   9116.580893  ,  15180.40661911,\n",
       "        13700.68187026,  16198.50350789,  11676.4203543 ,   7556.34102235,\n",
       "        14617.71504403,   8972.75915363,  41790.71839095,  23278.28733441,\n",
       "        14517.27181772,  46830.80661147,   8866.05323686,  15587.59472475,\n",
       "        24283.87505128,  12948.88355379,  17538.40548541,  16566.2550102 ,\n",
       "        31732.2552234 ,  33192.33694675,  34363.05270157,  43799.65436348,\n",
       "        34832.6532001 ,   9870.05676361,   9544.50982262,  24031.17547723,\n",
       "        11344.01477152,  17532.94674265,  25471.7097821 ,  14864.83808968,\n",
       "        32956.21233931,  11398.58307278,  48373.3937179 ,  33196.97870248,\n",
       "        60864.37806833,  13484.12959538,  49205.76766074,  26583.22152022,\n",
       "        20769.48109103,  69082.54361014, 263478.23155594,  12343.04709333,\n",
       "        87354.62820479,  14637.60595512,  10184.79109679,  19205.27479559,\n",
       "        20708.29144137,  18704.86855914,  92267.16047954,  12817.29101487,\n",
       "        12891.13940201,  54561.55006241,  22754.97702957,   9147.70179191,\n",
       "        20863.52317588,  27773.25984685,  14754.92940999,  13065.8589945 ,\n",
       "        14059.49256909,  42215.36880667, 129984.73616685,  17455.34443977,\n",
       "        47030.2578072 ,  19776.7927419 ,  15172.14736137,  10883.56888071,\n",
       "        19973.34519756,  43821.2749136 ,  44911.89424892,   8556.62570979,\n",
       "        13783.36575682,   6982.03765788,  15217.06037014,   9275.32499948,\n",
       "       107148.11095539,  21305.15255071,  61720.19427654,  22172.96701113,\n",
       "        89409.37937595,  17508.80719892,  44884.14693278,  17897.18913529,\n",
       "        14904.33986294,  35247.93339805,  14658.88003844,  42199.100677  ,\n",
       "       143525.31485384,  21817.20423122,  13876.3767339 ,  12216.42802676,\n",
       "        11468.7143603 ,  24019.61567905,  12449.05280424,   8318.26619996,\n",
       "        14002.28788615,  14677.31808049,  13244.75989956,  42703.60823541,\n",
       "         7014.65917131, 209093.25558001,   7920.97647604,  61080.10734405,\n",
       "        41753.53187863,  26817.11683475,  53034.60657993,  22348.11041096,\n",
       "         8227.61719202, 224708.60121462,  12964.69383488,  43821.2749136 ,\n",
       "        14517.27181772,  29434.4735982 ,  14066.02008572,  40835.48674131,\n",
       "        43262.37576459,  16755.4970022 ,  13395.94887543,  11581.08763357,\n",
       "        14506.68980822,  14665.19287503,  14428.9733974 ,  15397.42869777,\n",
       "        13829.88382463,  34182.25335126,  28306.82528984,   8156.38497754,\n",
       "        15310.06042069,  34303.56098083,  11311.75452446,   7128.2298348 ,\n",
       "         7688.86543606,  10834.37830021,   8213.53681236,  12878.09220138,\n",
       "        14832.20415721,  44999.52082466,  15331.68685172,   9581.68348188,\n",
       "        18244.12110633,  83282.24288368,   6962.76462764,   9825.15543722,\n",
       "        13793.17292014,  16826.07923306,   6739.04663005,  21708.00478939,\n",
       "        24949.83494419,   9050.52789954,  20197.45476764,  17379.04295626,\n",
       "       245374.44263686,  94757.78287823,  54858.28253913,  14832.20415721,\n",
       "        11187.47721205,  21082.23423975,  55628.70136483,   9147.70179191,\n",
       "        13065.8589945 ,  41839.25360553,  13484.12959538, 145758.29738437,\n",
       "        14517.27181772,  13317.80168126, 150222.7909207 ,  14023.25201926,\n",
       "        12501.34298011,  89409.37937595,  11289.19179606,  14515.32426202,\n",
       "        11647.78043241,  15217.06037014,  11123.49489366,  17786.79705656,\n",
       "        16028.6375106 ,  15397.42869777,  78139.89455611,  12721.01525876,\n",
       "        12783.93070267,  13538.95555202,  55976.92922224,  73714.41205321,\n",
       "        15217.06037014,  34478.88713176,  25327.77079393,  12841.91798299,\n",
       "         8227.61719202,  14088.92364779,   8612.43743912,  42681.92555471,\n",
       "        13861.66663153,  20458.57513351,  10784.80653216,  11069.19482675,\n",
       "        19633.48967267,  13830.04096587,   7014.65917131,  20254.92015366,\n",
       "        14402.35547714,   8343.6738371 ,  14295.28207469,  13538.95555202,\n",
       "         8769.20710393,  13646.02050629, 172974.09277231,   7934.32125522,\n",
       "        10830.05157423, 138870.40099028,   9075.10940945,  46904.5558498 ,\n",
       "        43682.01886764,  20687.90236748,  31772.49214251,   9445.09663384,\n",
       "        12975.3983321 ,  38495.40177717,  14685.53242528,  38477.1496536 ,\n",
       "        14770.15473784,  27645.80760471,   9868.53596301,  14832.20415721,\n",
       "         9149.0136383 ,  45690.97474939,  18733.82998137,  89409.37937595,\n",
       "        45947.78812303,  18264.11875128,  47532.24444546,  43682.01886764,\n",
       "        67816.1869943 ,  38112.73981474,  25348.42412663,  11079.79326778,\n",
       "         8551.21318017,  17220.62404124,  13767.67962895,  23407.68806183,\n",
       "        14002.28788615,  49602.53838075,  14501.40202635,  11706.33244002,\n",
       "         7642.27297972,  13830.04096587,   9149.0136383 ,   7362.32269519,\n",
       "        14321.85006614,  57707.33451156,  49892.09689908,  12762.88693782,\n",
       "        53976.6023258 ,  50491.50807099,  26680.45127721,  14983.2707201 ,\n",
       "        70465.28785998,  25481.95748614,   9460.12580059,  11593.34386067,\n",
       "        13120.14544937,   9599.98553879,  44422.09091377,   8614.54915628,\n",
       "       110135.94095127,  12786.08144732,  13423.68577123,   8635.14255204,\n",
       "       201789.09613823,  27197.90815365,   7803.95471602,  40499.32992276,\n",
       "        13357.94127577,   8843.63324893,   8964.02706242,  44497.75945259,\n",
       "       136736.35977703,  15331.16020941,  18522.63171692,  13814.06596044,\n",
       "        18845.93310008,   8126.95750887, 173468.73427219,  13767.67962895,\n",
       "        19068.43790087,  31877.16963496,  11876.64224357,  47544.88323655,\n",
       "        31818.8673947 ,  52773.95139922,   8421.68136013,   9868.53596301,\n",
       "        29250.06324321,  21399.32800362,   9597.42877618,  42375.59652248,\n",
       "        12259.31137535,  12219.17719619,   7164.14286943,  30470.19351921,\n",
       "        17345.43396904,  11451.94589002,  55391.8889611 ,  16082.43452073,\n",
       "        10544.04531547,  75656.34542981,  11342.84815844,  14858.43107688,\n",
       "        41665.63362199,  32053.12064307,  13082.74207419,  37081.1096654 ,\n",
       "       100461.76203226,   7116.08337988,  38700.97545582,  32059.17119505,\n",
       "        11069.19482675, 100228.76781477,  40040.50807231,  11531.96159576,\n",
       "        12885.45581727,  11912.55681034,  15816.23042024,   7646.41210542,\n",
       "        69833.9345437 ,  73881.4965138 ,  22348.11041096,   6093.52651469,\n",
       "        13895.28089324,  19387.91083249,  50880.18115892,  72200.28703877,\n",
       "        44594.48214885,  26567.12069522, 214482.17929706,  22404.50648482,\n",
       "         8396.84695617,  48262.80736636,  53912.58603569,  13553.37118177,\n",
       "        44985.87146481,  13992.81320581,  28489.05890148,  14387.73546348,\n",
       "        44843.08130281,   8544.4187287 ,  10206.54057697,  11939.3719624 ,\n",
       "         8642.55270783,  12909.19027395,  26583.22152022,  11585.99656057,\n",
       "        32872.36267071,  12246.01724539,  21159.79242122,  12597.00430642,\n",
       "        15499.07098714,  14877.97765556,  14071.92036778,  14260.41710686,\n",
       "        14528.49727558,  12948.88355379,  51147.94997999,  12824.83371606,\n",
       "        27522.10615718,  22668.69265718,  15316.986655  ,  13833.40273953,\n",
       "        53633.8947847 ,  13668.66551797,  93386.31011292,  13871.79051542,\n",
       "        43161.4744932 ,  21582.77077474,  17502.77245243,  12915.47491964,\n",
       "        23104.77728211,   7658.24961503,  11593.34386067,  50892.65703032,\n",
       "        18546.28759222,   9821.85885244,  13484.12959538,  14517.27181772,\n",
       "        43925.20819552, 146302.24608399,  13627.19072571,  14355.15224935,\n",
       "        11710.89192797,  10091.72028892,  19018.41777574,  13138.26337544,\n",
       "        11441.55153055,  14822.39474407,  19486.00180539,   9159.34050348,\n",
       "        16687.02028755,  15275.13809888,  51611.00941589,   8614.54915628,\n",
       "        36410.46380026,   5011.91687729,  42122.83128833,  25924.77312882,\n",
       "        61525.9562168 ,  17706.51435828,  12650.72395235,  89450.96371626,\n",
       "        29870.15858294,   9390.24604546,  10658.76226413,  70562.06877639])"
      ]
     },
     "execution_count": 75,
     "metadata": {},
     "output_type": "execute_result"
    }
   ],
   "source": [
    "y_pred_new"
   ]
  },
  {
   "cell_type": "code",
   "execution_count": 76,
   "id": "b319b490",
   "metadata": {},
   "outputs": [
    {
     "data": {
      "text/html": [
       "<div>\n",
       "<style scoped>\n",
       "    .dataframe tbody tr th:only-of-type {\n",
       "        vertical-align: middle;\n",
       "    }\n",
       "\n",
       "    .dataframe tbody tr th {\n",
       "        vertical-align: top;\n",
       "    }\n",
       "\n",
       "    .dataframe thead th {\n",
       "        text-align: right;\n",
       "    }\n",
       "</style>\n",
       "<table border=\"1\" class=\"dataframe\">\n",
       "  <thead>\n",
       "    <tr style=\"text-align: right;\">\n",
       "      <th></th>\n",
       "      <th>True_val</th>\n",
       "      <th>Prediction_val</th>\n",
       "    </tr>\n",
       "  </thead>\n",
       "  <tbody>\n",
       "    <tr>\n",
       "      <th>0</th>\n",
       "      <td>17000</td>\n",
       "      <td>14517.271818</td>\n",
       "    </tr>\n",
       "    <tr>\n",
       "      <th>1</th>\n",
       "      <td>30000</td>\n",
       "      <td>82068.164417</td>\n",
       "    </tr>\n",
       "    <tr>\n",
       "      <th>2</th>\n",
       "      <td>16000</td>\n",
       "      <td>14770.154738</td>\n",
       "    </tr>\n",
       "    <tr>\n",
       "      <th>3</th>\n",
       "      <td>90000</td>\n",
       "      <td>110652.811186</td>\n",
       "    </tr>\n",
       "    <tr>\n",
       "      <th>4</th>\n",
       "      <td>18000</td>\n",
       "      <td>30048.433467</td>\n",
       "    </tr>\n",
       "    <tr>\n",
       "      <th>...</th>\n",
       "      <td>...</td>\n",
       "      <td>...</td>\n",
       "    </tr>\n",
       "    <tr>\n",
       "      <th>943</th>\n",
       "      <td>170000</td>\n",
       "      <td>89450.963716</td>\n",
       "    </tr>\n",
       "    <tr>\n",
       "      <th>944</th>\n",
       "      <td>20000</td>\n",
       "      <td>29870.158583</td>\n",
       "    </tr>\n",
       "    <tr>\n",
       "      <th>945</th>\n",
       "      <td>7500</td>\n",
       "      <td>9390.246045</td>\n",
       "    </tr>\n",
       "    <tr>\n",
       "      <th>946</th>\n",
       "      <td>9500</td>\n",
       "      <td>10658.762264</td>\n",
       "    </tr>\n",
       "    <tr>\n",
       "      <th>947</th>\n",
       "      <td>140000</td>\n",
       "      <td>70562.068776</td>\n",
       "    </tr>\n",
       "  </tbody>\n",
       "</table>\n",
       "<p>948 rows × 2 columns</p>\n",
       "</div>"
      ],
      "text/plain": [
       "     True_val  Prediction_val\n",
       "0       17000    14517.271818\n",
       "1       30000    82068.164417\n",
       "2       16000    14770.154738\n",
       "3       90000   110652.811186\n",
       "4       18000    30048.433467\n",
       "..        ...             ...\n",
       "943    170000    89450.963716\n",
       "944     20000    29870.158583\n",
       "945      7500     9390.246045\n",
       "946      9500    10658.762264\n",
       "947    140000    70562.068776\n",
       "\n",
       "[948 rows x 2 columns]"
      ]
     },
     "execution_count": 76,
     "metadata": {},
     "output_type": "execute_result"
    }
   ],
   "source": [
    "hasil2 = pd.DataFrame({'True_val':true,'Prediction_val':y_pred_new})\n",
    "hasil2"
   ]
  },
  {
   "cell_type": "code",
   "execution_count": 77,
   "id": "4727394c",
   "metadata": {},
   "outputs": [],
   "source": [
    "hasil2['Category'] = hasil2['True_val'].apply(cat)"
   ]
  },
  {
   "cell_type": "code",
   "execution_count": 78,
   "id": "c692382d",
   "metadata": {},
   "outputs": [],
   "source": [
    "hasil2['diff'] = (abs(hasil2['True_val']-hasil2['Prediction_val'])/hasil2['True_val'])*100"
   ]
  },
  {
   "cell_type": "code",
   "execution_count": 79,
   "id": "eecb2790",
   "metadata": {},
   "outputs": [
    {
     "data": {
      "text/html": [
       "<div>\n",
       "<style scoped>\n",
       "    .dataframe tbody tr th:only-of-type {\n",
       "        vertical-align: middle;\n",
       "    }\n",
       "\n",
       "    .dataframe tbody tr th {\n",
       "        vertical-align: top;\n",
       "    }\n",
       "\n",
       "    .dataframe thead th {\n",
       "        text-align: right;\n",
       "    }\n",
       "</style>\n",
       "<table border=\"1\" class=\"dataframe\">\n",
       "  <thead>\n",
       "    <tr style=\"text-align: right;\">\n",
       "      <th></th>\n",
       "      <th>True_val</th>\n",
       "      <th>Prediction_val</th>\n",
       "      <th>Category</th>\n",
       "      <th>diff</th>\n",
       "    </tr>\n",
       "  </thead>\n",
       "  <tbody>\n",
       "    <tr>\n",
       "      <th>0</th>\n",
       "      <td>17000</td>\n",
       "      <td>14517.271818</td>\n",
       "      <td>10k sampai &lt;50k</td>\n",
       "      <td>14.604283</td>\n",
       "    </tr>\n",
       "    <tr>\n",
       "      <th>1</th>\n",
       "      <td>30000</td>\n",
       "      <td>82068.164417</td>\n",
       "      <td>10k sampai &lt;50k</td>\n",
       "      <td>173.560548</td>\n",
       "    </tr>\n",
       "    <tr>\n",
       "      <th>2</th>\n",
       "      <td>16000</td>\n",
       "      <td>14770.154738</td>\n",
       "      <td>10k sampai &lt;50k</td>\n",
       "      <td>7.686533</td>\n",
       "    </tr>\n",
       "    <tr>\n",
       "      <th>3</th>\n",
       "      <td>90000</td>\n",
       "      <td>110652.811186</td>\n",
       "      <td>50k sampai 100k</td>\n",
       "      <td>22.947568</td>\n",
       "    </tr>\n",
       "    <tr>\n",
       "      <th>4</th>\n",
       "      <td>18000</td>\n",
       "      <td>30048.433467</td>\n",
       "      <td>10k sampai &lt;50k</td>\n",
       "      <td>66.935741</td>\n",
       "    </tr>\n",
       "    <tr>\n",
       "      <th>...</th>\n",
       "      <td>...</td>\n",
       "      <td>...</td>\n",
       "      <td>...</td>\n",
       "      <td>...</td>\n",
       "    </tr>\n",
       "    <tr>\n",
       "      <th>943</th>\n",
       "      <td>170000</td>\n",
       "      <td>89450.963716</td>\n",
       "      <td>diatas 100k</td>\n",
       "      <td>47.381786</td>\n",
       "    </tr>\n",
       "    <tr>\n",
       "      <th>944</th>\n",
       "      <td>20000</td>\n",
       "      <td>29870.158583</td>\n",
       "      <td>10k sampai &lt;50k</td>\n",
       "      <td>49.350793</td>\n",
       "    </tr>\n",
       "    <tr>\n",
       "      <th>945</th>\n",
       "      <td>7500</td>\n",
       "      <td>9390.246045</td>\n",
       "      <td>dibawah 10k</td>\n",
       "      <td>25.203281</td>\n",
       "    </tr>\n",
       "    <tr>\n",
       "      <th>946</th>\n",
       "      <td>9500</td>\n",
       "      <td>10658.762264</td>\n",
       "      <td>dibawah 10k</td>\n",
       "      <td>12.197498</td>\n",
       "    </tr>\n",
       "    <tr>\n",
       "      <th>947</th>\n",
       "      <td>140000</td>\n",
       "      <td>70562.068776</td>\n",
       "      <td>diatas 100k</td>\n",
       "      <td>49.598522</td>\n",
       "    </tr>\n",
       "  </tbody>\n",
       "</table>\n",
       "<p>948 rows × 4 columns</p>\n",
       "</div>"
      ],
      "text/plain": [
       "     True_val  Prediction_val         Category        diff\n",
       "0       17000    14517.271818  10k sampai <50k   14.604283\n",
       "1       30000    82068.164417  10k sampai <50k  173.560548\n",
       "2       16000    14770.154738  10k sampai <50k    7.686533\n",
       "3       90000   110652.811186  50k sampai 100k   22.947568\n",
       "4       18000    30048.433467  10k sampai <50k   66.935741\n",
       "..        ...             ...              ...         ...\n",
       "943    170000    89450.963716      diatas 100k   47.381786\n",
       "944     20000    29870.158583  10k sampai <50k   49.350793\n",
       "945      7500     9390.246045      dibawah 10k   25.203281\n",
       "946      9500    10658.762264      dibawah 10k   12.197498\n",
       "947    140000    70562.068776      diatas 100k   49.598522\n",
       "\n",
       "[948 rows x 4 columns]"
      ]
     },
     "execution_count": 79,
     "metadata": {},
     "output_type": "execute_result"
    }
   ],
   "source": [
    "hasil2"
   ]
  },
  {
   "cell_type": "code",
   "execution_count": 80,
   "id": "97c15796",
   "metadata": {},
   "outputs": [
    {
     "data": {
      "text/plain": [
       "Category\n",
       "10k sampai <50k    30.957790\n",
       "50k sampai 100k    32.863696\n",
       "diatas 100k        47.182542\n",
       "dibawah 10k        43.885227\n",
       "Name: diff, dtype: float64"
      ]
     },
     "execution_count": 80,
     "metadata": {},
     "output_type": "execute_result"
    }
   ],
   "source": [
    "hasil2.groupby('Category')['diff'].mean()"
   ]
  },
  {
   "cell_type": "code",
   "execution_count": 84,
   "id": "04674acc",
   "metadata": {},
   "outputs": [
    {
     "data": {
      "image/png": "[encoded data removed]",
      "text/plain": [
       "<Figure size 720x360 with 1 Axes>"
      ]
     },
     "metadata": {
      "needs_background": "light"
     },
     "output_type": "display_data"
    }
   ],
   "source": [
    "hasil.groupby('Category')['diff'].mean().plot(kind='bar', figsize=(10,5))\n",
    "hasil2.groupby('Category')['diff'].mean().plot(kind='bar', figsize=(10,5), color='orange')\n",
    "plt.title('Perbedaan Harga Nilai Sebenarnya dengan Harga Prediksi', fontsize=15, pad=20)\n",
    "plt.ylabel('Perbedaan Harga (%)', labelpad=10)\n",
    "plt.xlabel('Kategori', labelpad=10)\n",
    "plt.xticks(rotation=0)\n",
    "plt.show()"
   ]
  },
  {
   "cell_type": "markdown",
   "id": "dc8fdb90",
   "metadata": {},
   "source": [
    "Setelah dilakukan *scaling* terlihat bahwa secara umum performa model mengalami perbaikan. Terlihat bahwa kini perbedaan harga prediksi tidak ada yang diatas 50%"
   ]
  },
  {
   "cell_type": "code",
   "execution_count": 50,
   "id": "ca6b3d01",
   "metadata": {},
   "outputs": [],
   "source": [
    "import joblib"
   ]
  },
  {
   "cell_type": "code",
   "execution_count": 51,
   "id": "6752d391",
   "metadata": {},
   "outputs": [
    {
     "data": {
      "text/plain": [
       "['best_model_new.sav']"
      ]
     },
     "execution_count": 51,
     "metadata": {},
     "output_type": "execute_result"
    }
   ],
   "source": [
    "# save model\n",
    "joblib.dump(best_grid_scaled, 'best_model_new.sav')"
   ]
  },
  {
   "cell_type": "markdown",
   "id": "ef362e80",
   "metadata": {},
   "source": [
    "## Kesimpulan dan Penutup\n",
    "\n",
    "Beberapa kesimpulan yang dapat diperoleh yaitu:\n",
    "1. Performa model yang dihasilkan tidak terlalu buruk dan dapat diterima\n",
    "2. Hyperparameter tuning telah membantu meningkatkan performa dari model\n",
    "3. Model dengan nilai label yang diskalakan secara umum memiliki performa yang lebih baik dari pada model dengan nilai label yang tidak diskalakan\n",
    "\n",
    "Selain itu, menurut saya performa model akan lebih baik lagi apabila bagian area locality dipertimbangkan. Tampaknya dalam satu kota nilai sewa dapat bervariasi dengan variasi yang cukup besar. Variasi ini tentu akan mempengaruhi performa model. Namun, dikarenakan keterbatasan pengetahuan saya terkait area locality di India serta nilainya yang memiliki kardinalitas yang tinggi pada percobaan ini feature tersebut tidak saya gunakan.\n",
    "\n",
    "Percobaan ini ditujukan sebagai latihan saya dalam menekuni dunia data science. Percobaan ini tidak dimaksudkan untuk tujuan komersial apapun.\n",
    "\n",
    "Dibuat oleh Muhammad Rizaldi Yani\\\n",
    "rizaldiyani8@gmail.com"
   ]
  }
 ],
 "metadata": {
  "kernelspec": {
   "display_name": "Python 3 (ipykernel)",
   "language": "python",
   "name": "python3"
  },
  "language_info": {
   "codemirror_mode": {
    "name": "ipython",
    "version": 3
   },
   "file_extension": ".py",
   "mimetype": "text/x-python",
   "name": "python",
   "nbconvert_exporter": "python",
   "pygments_lexer": "ipython3",
   "version": "3.9.12"
  }
 },
 "nbformat": 4,
 "nbformat_minor": 5
}
